{
 "cells": [
  {
   "cell_type": "code",
   "execution_count": 1,
   "id": "5186375b",
   "metadata": {},
   "outputs": [],
   "source": [
    "import numpy as np\n",
    "import pandas as pd\n",
    "import matplotlib.pyplot as plt\n",
    "import seaborn as sns\n",
    "\n",
    "%matplotlib inline"
   ]
  },
  {
   "cell_type": "code",
   "execution_count": 2,
   "id": "ab6fe4a7",
   "metadata": {},
   "outputs": [],
   "source": [
    "from sklearn.model_selection import train_test_split\n",
    "from sklearn import metrics"
   ]
  },
  {
   "cell_type": "markdown",
   "id": "e6bb78c7",
   "metadata": {},
   "source": [
    "#### File Reading"
   ]
  },
  {
   "cell_type": "code",
   "execution_count": 3,
   "id": "1636e0cb",
   "metadata": {},
   "outputs": [],
   "source": [
    "csvFileLocation = 'data/targetfirm_prediction_dataset_small.csv'"
   ]
  },
  {
   "cell_type": "code",
   "execution_count": 4,
   "id": "34d669d7",
   "metadata": {},
   "outputs": [],
   "source": [
    "finance_dataframe = pd.read_csv(csvFileLocation)"
   ]
  },
  {
   "cell_type": "code",
   "execution_count": 5,
   "id": "234b030b",
   "metadata": {},
   "outputs": [
    {
     "data": {
      "text/html": [
       "<div>\n",
       "<style scoped>\n",
       "    .dataframe tbody tr th:only-of-type {\n",
       "        vertical-align: middle;\n",
       "    }\n",
       "\n",
       "    .dataframe tbody tr th {\n",
       "        vertical-align: top;\n",
       "    }\n",
       "\n",
       "    .dataframe thead th {\n",
       "        text-align: right;\n",
       "    }\n",
       "</style>\n",
       "<table border=\"1\" class=\"dataframe\">\n",
       "  <thead>\n",
       "    <tr style=\"text-align: right;\">\n",
       "      <th></th>\n",
       "      <th>Unnamed: 0</th>\n",
       "      <th>gvkey</th>\n",
       "      <th>fyear</th>\n",
       "      <th>target</th>\n",
       "      <th>at</th>\n",
       "      <th>revt</th>\n",
       "      <th>ib</th>\n",
       "      <th>ca</th>\n",
       "      <th>capx</th>\n",
       "      <th>ceq</th>\n",
       "      <th>che</th>\n",
       "      <th>emp</th>\n",
       "      <th>invt</th>\n",
       "      <th>re</th>\n",
       "      <th>xrd</th>\n",
       "      <th>dltt</th>\n",
       "      <th>dv</th>\n",
       "      <th>sic</th>\n",
       "    </tr>\n",
       "  </thead>\n",
       "  <tbody>\n",
       "    <tr>\n",
       "      <th>0</th>\n",
       "      <td>6</td>\n",
       "      <td>1004</td>\n",
       "      <td>2000.0</td>\n",
       "      <td>0.0</td>\n",
       "      <td>701.854</td>\n",
       "      <td>874.255</td>\n",
       "      <td>18.531</td>\n",
       "      <td>NaN</td>\n",
       "      <td>13.134</td>\n",
       "      <td>340.212</td>\n",
       "      <td>13.809</td>\n",
       "      <td>2.5</td>\n",
       "      <td>320.590</td>\n",
       "      <td>204.065</td>\n",
       "      <td>NaN</td>\n",
       "      <td>179.987</td>\n",
       "      <td>9.157</td>\n",
       "      <td>5080.0</td>\n",
       "    </tr>\n",
       "    <tr>\n",
       "      <th>1</th>\n",
       "      <td>7</td>\n",
       "      <td>1004</td>\n",
       "      <td>2001.0</td>\n",
       "      <td>0.0</td>\n",
       "      <td>710.199</td>\n",
       "      <td>638.721</td>\n",
       "      <td>-58.939</td>\n",
       "      <td>NaN</td>\n",
       "      <td>12.112</td>\n",
       "      <td>310.235</td>\n",
       "      <td>34.522</td>\n",
       "      <td>2.2</td>\n",
       "      <td>286.588</td>\n",
       "      <td>139.603</td>\n",
       "      <td>NaN</td>\n",
       "      <td>217.699</td>\n",
       "      <td>4.430</td>\n",
       "      <td>5080.0</td>\n",
       "    </tr>\n",
       "    <tr>\n",
       "      <th>2</th>\n",
       "      <td>8</td>\n",
       "      <td>1004</td>\n",
       "      <td>2002.0</td>\n",
       "      <td>0.0</td>\n",
       "      <td>686.621</td>\n",
       "      <td>606.337</td>\n",
       "      <td>-12.410</td>\n",
       "      <td>NaN</td>\n",
       "      <td>9.930</td>\n",
       "      <td>294.988</td>\n",
       "      <td>29.154</td>\n",
       "      <td>2.1</td>\n",
       "      <td>259.954</td>\n",
       "      <td>124.106</td>\n",
       "      <td>NaN</td>\n",
       "      <td>164.658</td>\n",
       "      <td>0.797</td>\n",
       "      <td>5080.0</td>\n",
       "    </tr>\n",
       "    <tr>\n",
       "      <th>3</th>\n",
       "      <td>9</td>\n",
       "      <td>1004</td>\n",
       "      <td>2003.0</td>\n",
       "      <td>0.0</td>\n",
       "      <td>709.292</td>\n",
       "      <td>651.958</td>\n",
       "      <td>3.504</td>\n",
       "      <td>NaN</td>\n",
       "      <td>10.286</td>\n",
       "      <td>301.684</td>\n",
       "      <td>41.010</td>\n",
       "      <td>2.3</td>\n",
       "      <td>247.245</td>\n",
       "      <td>131.884</td>\n",
       "      <td>NaN</td>\n",
       "      <td>248.666</td>\n",
       "      <td>0.000</td>\n",
       "      <td>5080.0</td>\n",
       "    </tr>\n",
       "    <tr>\n",
       "      <th>4</th>\n",
       "      <td>10</td>\n",
       "      <td>1004</td>\n",
       "      <td>2004.0</td>\n",
       "      <td>0.0</td>\n",
       "      <td>732.230</td>\n",
       "      <td>747.848</td>\n",
       "      <td>18.572</td>\n",
       "      <td>NaN</td>\n",
       "      <td>13.033</td>\n",
       "      <td>314.744</td>\n",
       "      <td>50.338</td>\n",
       "      <td>2.6</td>\n",
       "      <td>255.477</td>\n",
       "      <td>142.450</td>\n",
       "      <td>NaN</td>\n",
       "      <td>227.159</td>\n",
       "      <td>0.000</td>\n",
       "      <td>5080.0</td>\n",
       "    </tr>\n",
       "  </tbody>\n",
       "</table>\n",
       "</div>"
      ],
      "text/plain": [
       "   Unnamed: 0  gvkey   fyear  target       at     revt      ib  ca    capx  \\\n",
       "0           6   1004  2000.0     0.0  701.854  874.255  18.531 NaN  13.134   \n",
       "1           7   1004  2001.0     0.0  710.199  638.721 -58.939 NaN  12.112   \n",
       "2           8   1004  2002.0     0.0  686.621  606.337 -12.410 NaN   9.930   \n",
       "3           9   1004  2003.0     0.0  709.292  651.958   3.504 NaN  10.286   \n",
       "4          10   1004  2004.0     0.0  732.230  747.848  18.572 NaN  13.033   \n",
       "\n",
       "       ceq     che  emp     invt       re  xrd     dltt     dv     sic  \n",
       "0  340.212  13.809  2.5  320.590  204.065  NaN  179.987  9.157  5080.0  \n",
       "1  310.235  34.522  2.2  286.588  139.603  NaN  217.699  4.430  5080.0  \n",
       "2  294.988  29.154  2.1  259.954  124.106  NaN  164.658  0.797  5080.0  \n",
       "3  301.684  41.010  2.3  247.245  131.884  NaN  248.666  0.000  5080.0  \n",
       "4  314.744  50.338  2.6  255.477  142.450  NaN  227.159  0.000  5080.0  "
      ]
     },
     "execution_count": 5,
     "metadata": {},
     "output_type": "execute_result"
    }
   ],
   "source": [
    "finance_dataframe.head()"
   ]
  },
  {
   "cell_type": "markdown",
   "id": "e4bfab61",
   "metadata": {},
   "source": [
    " "
   ]
  },
  {
   "cell_type": "markdown",
   "id": "dac0df68",
   "metadata": {},
   "source": [
    "#### Data Cleaning"
   ]
  },
  {
   "cell_type": "code",
   "execution_count": 6,
   "id": "d1709fcb",
   "metadata": {},
   "outputs": [
    {
     "data": {
      "text/plain": [
       "Unnamed: 0         0\n",
       "gvkey              0\n",
       "fyear              0\n",
       "target             0\n",
       "at             34635\n",
       "revt           35677\n",
       "ib             35660\n",
       "ca            211399\n",
       "capx           63184\n",
       "ceq            35063\n",
       "che            57076\n",
       "emp            63859\n",
       "invt           53353\n",
       "re             40548\n",
       "xrd           150287\n",
       "dltt           35036\n",
       "dv             65058\n",
       "sic                3\n",
       "dtype: int64"
      ]
     },
     "execution_count": 6,
     "metadata": {},
     "output_type": "execute_result"
    }
   ],
   "source": [
    "finance_dataframe.isna().sum()"
   ]
  },
  {
   "cell_type": "code",
   "execution_count": 7,
   "id": "e65343c7",
   "metadata": {},
   "outputs": [],
   "source": [
    "# # dropping columns which contains more than 60% NaN values.\n",
    "\n",
    "# columns = finance_dataframe.columns\n",
    "# for col in columns:\n",
    "#     if finance_dataframe[col].isna().sum() >= len(finance_dataframe)*0.6:\n",
    "#         finance_dataframe.drop(columns=[col], inplace=True)"
   ]
  },
  {
   "cell_type": "code",
   "execution_count": 8,
   "id": "20843c19",
   "metadata": {},
   "outputs": [],
   "source": [
    "finance_dataframe.fillna(0,inplace=True)"
   ]
  },
  {
   "cell_type": "code",
   "execution_count": 9,
   "id": "0bf745b7",
   "metadata": {},
   "outputs": [
    {
     "data": {
      "text/plain": [
       "Unnamed: 0    0\n",
       "gvkey         0\n",
       "fyear         0\n",
       "target        0\n",
       "at            0\n",
       "revt          0\n",
       "ib            0\n",
       "ca            0\n",
       "capx          0\n",
       "ceq           0\n",
       "che           0\n",
       "emp           0\n",
       "invt          0\n",
       "re            0\n",
       "xrd           0\n",
       "dltt          0\n",
       "dv            0\n",
       "sic           0\n",
       "dtype: int64"
      ]
     },
     "execution_count": 9,
     "metadata": {},
     "output_type": "execute_result"
    }
   ],
   "source": [
    "finance_dataframe.isna().sum()"
   ]
  },
  {
   "cell_type": "code",
   "execution_count": 10,
   "id": "418f3d60",
   "metadata": {},
   "outputs": [],
   "source": [
    "# for features not using Unnamed: 0, gvkey, fyear and no target\n",
    "finance_features = finance_dataframe.iloc[:,4:len(finance_dataframe.columns)]\n",
    "y = finance_dataframe['target']"
   ]
  },
  {
   "cell_type": "markdown",
   "id": "ab5e2abd",
   "metadata": {},
   "source": [
    " "
   ]
  },
  {
   "cell_type": "markdown",
   "id": "ad4849fa",
   "metadata": {},
   "source": [
    "#### Data Visualization"
   ]
  },
  {
   "cell_type": "code",
   "execution_count": 11,
   "id": "56689340",
   "metadata": {},
   "outputs": [
    {
     "data": {
      "text/html": [
       "<div>\n",
       "<style scoped>\n",
       "    .dataframe tbody tr th:only-of-type {\n",
       "        vertical-align: middle;\n",
       "    }\n",
       "\n",
       "    .dataframe tbody tr th {\n",
       "        vertical-align: top;\n",
       "    }\n",
       "\n",
       "    .dataframe thead th {\n",
       "        text-align: right;\n",
       "    }\n",
       "</style>\n",
       "<table border=\"1\" class=\"dataframe\">\n",
       "  <thead>\n",
       "    <tr style=\"text-align: right;\">\n",
       "      <th></th>\n",
       "      <th>at</th>\n",
       "      <th>revt</th>\n",
       "      <th>ib</th>\n",
       "      <th>ca</th>\n",
       "      <th>capx</th>\n",
       "      <th>ceq</th>\n",
       "      <th>che</th>\n",
       "      <th>emp</th>\n",
       "      <th>invt</th>\n",
       "      <th>re</th>\n",
       "      <th>xrd</th>\n",
       "      <th>dltt</th>\n",
       "      <th>dv</th>\n",
       "      <th>sic</th>\n",
       "    </tr>\n",
       "  </thead>\n",
       "  <tbody>\n",
       "    <tr>\n",
       "      <th>at</th>\n",
       "      <td>1.000000</td>\n",
       "      <td>0.475869</td>\n",
       "      <td>0.361056</td>\n",
       "      <td>0.197135</td>\n",
       "      <td>0.155549</td>\n",
       "      <td>0.611279</td>\n",
       "      <td>0.606885</td>\n",
       "      <td>0.278413</td>\n",
       "      <td>0.261155</td>\n",
       "      <td>0.443250</td>\n",
       "      <td>0.064187</td>\n",
       "      <td>0.588733</td>\n",
       "      <td>0.308805</td>\n",
       "      <td>0.036945</td>\n",
       "    </tr>\n",
       "    <tr>\n",
       "      <th>revt</th>\n",
       "      <td>0.475869</td>\n",
       "      <td>1.000000</td>\n",
       "      <td>0.574908</td>\n",
       "      <td>0.048207</td>\n",
       "      <td>0.685839</td>\n",
       "      <td>0.707128</td>\n",
       "      <td>0.308636</td>\n",
       "      <td>0.668437</td>\n",
       "      <td>0.230391</td>\n",
       "      <td>0.664255</td>\n",
       "      <td>0.404001</td>\n",
       "      <td>0.272088</td>\n",
       "      <td>0.557734</td>\n",
       "      <td>-0.020152</td>\n",
       "    </tr>\n",
       "    <tr>\n",
       "      <th>ib</th>\n",
       "      <td>0.361056</td>\n",
       "      <td>0.574908</td>\n",
       "      <td>1.000000</td>\n",
       "      <td>0.064588</td>\n",
       "      <td>0.433550</td>\n",
       "      <td>0.592323</td>\n",
       "      <td>0.247623</td>\n",
       "      <td>0.348491</td>\n",
       "      <td>0.151357</td>\n",
       "      <td>0.604742</td>\n",
       "      <td>0.284968</td>\n",
       "      <td>0.203847</td>\n",
       "      <td>0.534578</td>\n",
       "      <td>-0.007802</td>\n",
       "    </tr>\n",
       "    <tr>\n",
       "      <th>ca</th>\n",
       "      <td>0.197135</td>\n",
       "      <td>0.048207</td>\n",
       "      <td>0.064588</td>\n",
       "      <td>1.000000</td>\n",
       "      <td>-0.002868</td>\n",
       "      <td>0.074508</td>\n",
       "      <td>-0.001430</td>\n",
       "      <td>0.027778</td>\n",
       "      <td>-0.001086</td>\n",
       "      <td>0.066614</td>\n",
       "      <td>-0.002031</td>\n",
       "      <td>0.050753</td>\n",
       "      <td>-0.002540</td>\n",
       "      <td>0.009017</td>\n",
       "    </tr>\n",
       "    <tr>\n",
       "      <th>capx</th>\n",
       "      <td>0.155549</td>\n",
       "      <td>0.685839</td>\n",
       "      <td>0.433550</td>\n",
       "      <td>-0.002868</td>\n",
       "      <td>1.000000</td>\n",
       "      <td>0.557142</td>\n",
       "      <td>0.128961</td>\n",
       "      <td>0.432310</td>\n",
       "      <td>0.125157</td>\n",
       "      <td>0.529393</td>\n",
       "      <td>0.340061</td>\n",
       "      <td>0.094468</td>\n",
       "      <td>0.514502</td>\n",
       "      <td>-0.061823</td>\n",
       "    </tr>\n",
       "    <tr>\n",
       "      <th>ceq</th>\n",
       "      <td>0.611279</td>\n",
       "      <td>0.707128</td>\n",
       "      <td>0.592323</td>\n",
       "      <td>0.074508</td>\n",
       "      <td>0.557142</td>\n",
       "      <td>1.000000</td>\n",
       "      <td>0.439403</td>\n",
       "      <td>0.467133</td>\n",
       "      <td>0.234837</td>\n",
       "      <td>0.823977</td>\n",
       "      <td>0.297994</td>\n",
       "      <td>0.087902</td>\n",
       "      <td>0.463579</td>\n",
       "      <td>0.000085</td>\n",
       "    </tr>\n",
       "    <tr>\n",
       "      <th>che</th>\n",
       "      <td>0.606885</td>\n",
       "      <td>0.308636</td>\n",
       "      <td>0.247623</td>\n",
       "      <td>-0.001430</td>\n",
       "      <td>0.128961</td>\n",
       "      <td>0.439403</td>\n",
       "      <td>1.000000</td>\n",
       "      <td>0.187329</td>\n",
       "      <td>0.478348</td>\n",
       "      <td>0.332835</td>\n",
       "      <td>0.097758</td>\n",
       "      <td>0.241643</td>\n",
       "      <td>0.276193</td>\n",
       "      <td>0.020470</td>\n",
       "    </tr>\n",
       "    <tr>\n",
       "      <th>emp</th>\n",
       "      <td>0.278413</td>\n",
       "      <td>0.668437</td>\n",
       "      <td>0.348491</td>\n",
       "      <td>0.027778</td>\n",
       "      <td>0.432310</td>\n",
       "      <td>0.467133</td>\n",
       "      <td>0.187329</td>\n",
       "      <td>1.000000</td>\n",
       "      <td>0.158001</td>\n",
       "      <td>0.410306</td>\n",
       "      <td>0.313703</td>\n",
       "      <td>0.113206</td>\n",
       "      <td>0.338371</td>\n",
       "      <td>-0.001246</td>\n",
       "    </tr>\n",
       "    <tr>\n",
       "      <th>invt</th>\n",
       "      <td>0.261155</td>\n",
       "      <td>0.230391</td>\n",
       "      <td>0.151357</td>\n",
       "      <td>-0.001086</td>\n",
       "      <td>0.125157</td>\n",
       "      <td>0.234837</td>\n",
       "      <td>0.478348</td>\n",
       "      <td>0.158001</td>\n",
       "      <td>1.000000</td>\n",
       "      <td>0.214674</td>\n",
       "      <td>0.074789</td>\n",
       "      <td>0.111289</td>\n",
       "      <td>0.163072</td>\n",
       "      <td>0.004972</td>\n",
       "    </tr>\n",
       "    <tr>\n",
       "      <th>re</th>\n",
       "      <td>0.443250</td>\n",
       "      <td>0.664255</td>\n",
       "      <td>0.604742</td>\n",
       "      <td>0.066614</td>\n",
       "      <td>0.529393</td>\n",
       "      <td>0.823977</td>\n",
       "      <td>0.332835</td>\n",
       "      <td>0.410306</td>\n",
       "      <td>0.214674</td>\n",
       "      <td>1.000000</td>\n",
       "      <td>0.287159</td>\n",
       "      <td>0.004597</td>\n",
       "      <td>0.428920</td>\n",
       "      <td>-0.005840</td>\n",
       "    </tr>\n",
       "    <tr>\n",
       "      <th>xrd</th>\n",
       "      <td>0.064187</td>\n",
       "      <td>0.404001</td>\n",
       "      <td>0.284968</td>\n",
       "      <td>-0.002031</td>\n",
       "      <td>0.340061</td>\n",
       "      <td>0.297994</td>\n",
       "      <td>0.097758</td>\n",
       "      <td>0.313703</td>\n",
       "      <td>0.074789</td>\n",
       "      <td>0.287159</td>\n",
       "      <td>1.000000</td>\n",
       "      <td>0.041073</td>\n",
       "      <td>0.341034</td>\n",
       "      <td>-0.044442</td>\n",
       "    </tr>\n",
       "    <tr>\n",
       "      <th>dltt</th>\n",
       "      <td>0.588733</td>\n",
       "      <td>0.272088</td>\n",
       "      <td>0.203847</td>\n",
       "      <td>0.050753</td>\n",
       "      <td>0.094468</td>\n",
       "      <td>0.087902</td>\n",
       "      <td>0.241643</td>\n",
       "      <td>0.113206</td>\n",
       "      <td>0.111289</td>\n",
       "      <td>0.004597</td>\n",
       "      <td>0.041073</td>\n",
       "      <td>1.000000</td>\n",
       "      <td>0.306937</td>\n",
       "      <td>0.016958</td>\n",
       "    </tr>\n",
       "    <tr>\n",
       "      <th>dv</th>\n",
       "      <td>0.308805</td>\n",
       "      <td>0.557734</td>\n",
       "      <td>0.534578</td>\n",
       "      <td>-0.002540</td>\n",
       "      <td>0.514502</td>\n",
       "      <td>0.463579</td>\n",
       "      <td>0.276193</td>\n",
       "      <td>0.338371</td>\n",
       "      <td>0.163072</td>\n",
       "      <td>0.428920</td>\n",
       "      <td>0.341034</td>\n",
       "      <td>0.306937</td>\n",
       "      <td>1.000000</td>\n",
       "      <td>-0.032400</td>\n",
       "    </tr>\n",
       "    <tr>\n",
       "      <th>sic</th>\n",
       "      <td>0.036945</td>\n",
       "      <td>-0.020152</td>\n",
       "      <td>-0.007802</td>\n",
       "      <td>0.009017</td>\n",
       "      <td>-0.061823</td>\n",
       "      <td>0.000085</td>\n",
       "      <td>0.020470</td>\n",
       "      <td>-0.001246</td>\n",
       "      <td>0.004972</td>\n",
       "      <td>-0.005840</td>\n",
       "      <td>-0.044442</td>\n",
       "      <td>0.016958</td>\n",
       "      <td>-0.032400</td>\n",
       "      <td>1.000000</td>\n",
       "    </tr>\n",
       "  </tbody>\n",
       "</table>\n",
       "</div>"
      ],
      "text/plain": [
       "            at      revt        ib        ca      capx       ceq       che  \\\n",
       "at    1.000000  0.475869  0.361056  0.197135  0.155549  0.611279  0.606885   \n",
       "revt  0.475869  1.000000  0.574908  0.048207  0.685839  0.707128  0.308636   \n",
       "ib    0.361056  0.574908  1.000000  0.064588  0.433550  0.592323  0.247623   \n",
       "ca    0.197135  0.048207  0.064588  1.000000 -0.002868  0.074508 -0.001430   \n",
       "capx  0.155549  0.685839  0.433550 -0.002868  1.000000  0.557142  0.128961   \n",
       "ceq   0.611279  0.707128  0.592323  0.074508  0.557142  1.000000  0.439403   \n",
       "che   0.606885  0.308636  0.247623 -0.001430  0.128961  0.439403  1.000000   \n",
       "emp   0.278413  0.668437  0.348491  0.027778  0.432310  0.467133  0.187329   \n",
       "invt  0.261155  0.230391  0.151357 -0.001086  0.125157  0.234837  0.478348   \n",
       "re    0.443250  0.664255  0.604742  0.066614  0.529393  0.823977  0.332835   \n",
       "xrd   0.064187  0.404001  0.284968 -0.002031  0.340061  0.297994  0.097758   \n",
       "dltt  0.588733  0.272088  0.203847  0.050753  0.094468  0.087902  0.241643   \n",
       "dv    0.308805  0.557734  0.534578 -0.002540  0.514502  0.463579  0.276193   \n",
       "sic   0.036945 -0.020152 -0.007802  0.009017 -0.061823  0.000085  0.020470   \n",
       "\n",
       "           emp      invt        re       xrd      dltt        dv       sic  \n",
       "at    0.278413  0.261155  0.443250  0.064187  0.588733  0.308805  0.036945  \n",
       "revt  0.668437  0.230391  0.664255  0.404001  0.272088  0.557734 -0.020152  \n",
       "ib    0.348491  0.151357  0.604742  0.284968  0.203847  0.534578 -0.007802  \n",
       "ca    0.027778 -0.001086  0.066614 -0.002031  0.050753 -0.002540  0.009017  \n",
       "capx  0.432310  0.125157  0.529393  0.340061  0.094468  0.514502 -0.061823  \n",
       "ceq   0.467133  0.234837  0.823977  0.297994  0.087902  0.463579  0.000085  \n",
       "che   0.187329  0.478348  0.332835  0.097758  0.241643  0.276193  0.020470  \n",
       "emp   1.000000  0.158001  0.410306  0.313703  0.113206  0.338371 -0.001246  \n",
       "invt  0.158001  1.000000  0.214674  0.074789  0.111289  0.163072  0.004972  \n",
       "re    0.410306  0.214674  1.000000  0.287159  0.004597  0.428920 -0.005840  \n",
       "xrd   0.313703  0.074789  0.287159  1.000000  0.041073  0.341034 -0.044442  \n",
       "dltt  0.113206  0.111289  0.004597  0.041073  1.000000  0.306937  0.016958  \n",
       "dv    0.338371  0.163072  0.428920  0.341034  0.306937  1.000000 -0.032400  \n",
       "sic  -0.001246  0.004972 -0.005840 -0.044442  0.016958 -0.032400  1.000000  "
      ]
     },
     "execution_count": 11,
     "metadata": {},
     "output_type": "execute_result"
    }
   ],
   "source": [
    "finance_features.corr()"
   ]
  },
  {
   "cell_type": "code",
   "execution_count": 12,
   "id": "367ba109",
   "metadata": {},
   "outputs": [
    {
     "data": {
      "text/plain": [
       "<AxesSubplot:>"
      ]
     },
     "execution_count": 12,
     "metadata": {},
     "output_type": "execute_result"
    },
    {
     "data": {
      "image/png": "[encoded data removed]",
      "text/plain": [
       "<Figure size 1440x720 with 2 Axes>"
      ]
     },
     "metadata": {
      "needs_background": "light"
     },
     "output_type": "display_data"
    }
   ],
   "source": [
    "fig, ax = plt.subplots(figsize=(20,10))  \n",
    "sns.heatmap(finance_features.corr(), cmap=\"YlGnBu\", linewidths=0.1, annot=True, ax=ax)"
   ]
  },
  {
   "cell_type": "code",
   "execution_count": 13,
   "id": "cb0bd0b0",
   "metadata": {},
   "outputs": [],
   "source": [
    "# sns.pairplot(finance_features, hue='target', height=2.5)"
   ]
  },
  {
   "cell_type": "markdown",
   "id": "5985dc46",
   "metadata": {},
   "source": [
    " "
   ]
  },
  {
   "cell_type": "markdown",
   "id": "9c451d05",
   "metadata": {},
   "source": [
    "# Train Test Split of Data"
   ]
  },
  {
   "cell_type": "code",
   "execution_count": 14,
   "id": "ffe7aa22",
   "metadata": {},
   "outputs": [],
   "source": [
    "# 70% training and 30% test\n",
    "X_train, X_test, y_train, y_test = train_test_split(finance_features, y, test_size=0.3,random_state=100)"
   ]
  },
  {
   "cell_type": "code",
   "execution_count": null,
   "id": "0746655d",
   "metadata": {},
   "outputs": [],
   "source": []
  },
  {
   "cell_type": "code",
   "execution_count": 15,
   "id": "38f967de",
   "metadata": {},
   "outputs": [
    {
     "data": {
      "text/plain": [
       "{0.0: 156202, 1.0: 1305}"
      ]
     },
     "execution_count": 15,
     "metadata": {},
     "output_type": "execute_result"
    }
   ],
   "source": [
    "unique, counts = np.unique(y_train, return_counts=True)\n",
    "dict(zip(unique, counts))"
   ]
  },
  {
   "cell_type": "code",
   "execution_count": 16,
   "id": "372fb189",
   "metadata": {},
   "outputs": [
    {
     "data": {
      "text/plain": [
       "{0.0: 66947, 1.0: 556}"
      ]
     },
     "execution_count": 16,
     "metadata": {},
     "output_type": "execute_result"
    }
   ],
   "source": [
    "unique, counts = np.unique(y_test, return_counts=True)\n",
    "dict(zip(unique, counts))"
   ]
  },
  {
   "cell_type": "code",
   "execution_count": null,
   "id": "3def1e43",
   "metadata": {},
   "outputs": [],
   "source": []
  },
  {
   "cell_type": "markdown",
   "id": "3c9a04d5",
   "metadata": {},
   "source": [
    "## SVM"
   ]
  },
  {
   "cell_type": "markdown",
   "id": "ae2a7017",
   "metadata": {},
   "source": [
    "#### Training SVM Model"
   ]
  },
  {
   "cell_type": "code",
   "execution_count": 17,
   "id": "e83b2d50",
   "metadata": {},
   "outputs": [],
   "source": [
    "# from sklearn import svm"
   ]
  },
  {
   "cell_type": "code",
   "execution_count": 18,
   "id": "d9076fb3",
   "metadata": {},
   "outputs": [],
   "source": [
    "# sampleN = int(len(X_train)*0.05)\n",
    "# sampleN"
   ]
  },
  {
   "cell_type": "code",
   "execution_count": 19,
   "id": "408aacf8",
   "metadata": {},
   "outputs": [],
   "source": [
    "# # SVM takes time to train, hence taking 5% sample of the training data to train the model\n",
    "\n",
    "# sample_X = X_train.sample(sampleN)\n",
    "# sample_y = sample_X['target']"
   ]
  },
  {
   "cell_type": "markdown",
   "id": "708e8dc5",
   "metadata": {},
   "source": [
    " "
   ]
  },
  {
   "cell_type": "code",
   "execution_count": 20,
   "id": "f08b65b5",
   "metadata": {},
   "outputs": [],
   "source": [
    "# clf = svm.SVC(kernel='linear')"
   ]
  },
  {
   "cell_type": "code",
   "execution_count": 21,
   "id": "889b51e5",
   "metadata": {},
   "outputs": [],
   "source": [
    "# # Taking too much time\n",
    "# # clf.fit(X_train, y_train)\n",
    "\n",
    "# clf.fit(sample_X,sample_y)"
   ]
  },
  {
   "cell_type": "code",
   "execution_count": 22,
   "id": "5dcdd5fe",
   "metadata": {},
   "outputs": [],
   "source": [
    "# import findspark\n",
    "# findspark.init()\n",
    "\n",
    "# import pyspark\n",
    "# import random\n",
    "\n",
    "# sc = pyspark.SparkContext(appName=\"svc\")\n",
    "\n",
    "# sc.parallelize(clf.fit(X_train,y_train))\n",
    "\n",
    "# sc.stop()\n",
    "\n",
    "# y_pred = clf.predict(X_test)\n",
    "\n",
    "# print(\"Accuracy:\",metrics.accuracy_score(y_test, y_pred))"
   ]
  },
  {
   "cell_type": "code",
   "execution_count": null,
   "id": "677f9729",
   "metadata": {},
   "outputs": [],
   "source": []
  },
  {
   "cell_type": "markdown",
   "id": "53db1aba",
   "metadata": {},
   "source": [
    "#### Predicting Target with SVM"
   ]
  },
  {
   "cell_type": "code",
   "execution_count": 23,
   "id": "ac151a68",
   "metadata": {},
   "outputs": [],
   "source": [
    "# y_pred_svm = clf.predict(X_test)"
   ]
  },
  {
   "cell_type": "code",
   "execution_count": 24,
   "id": "f3f2f986",
   "metadata": {},
   "outputs": [],
   "source": [
    "# unique, counts = np.unique(y_pred_svm, return_counts=True)\n",
    "# dict(zip(unique, counts))"
   ]
  },
  {
   "cell_type": "markdown",
   "id": "5b8a8aac",
   "metadata": {},
   "source": [
    "#### Metric Calculations for SVM"
   ]
  },
  {
   "cell_type": "code",
   "execution_count": 25,
   "id": "5d912010",
   "metadata": {},
   "outputs": [],
   "source": [
    "# print(\"Accuracy:\",metrics.accuracy_score(y_test, y_pred_svm))"
   ]
  },
  {
   "cell_type": "code",
   "execution_count": 26,
   "id": "c86d2793",
   "metadata": {},
   "outputs": [],
   "source": [
    "# print(\"Precision:\",metrics.precision_score(y_test, y_pred_svm))"
   ]
  },
  {
   "cell_type": "code",
   "execution_count": 27,
   "id": "b00b4fb8",
   "metadata": {},
   "outputs": [],
   "source": [
    "# print(\"Recall:\",metrics.recall_score(y_test, y_pred_svm))"
   ]
  },
  {
   "cell_type": "code",
   "execution_count": 28,
   "id": "c1b5893a",
   "metadata": {},
   "outputs": [],
   "source": [
    "# cm_svm = metrics.confusion_matrix(y_test, y_pred_svm)\n",
    "# print(cm_svm)"
   ]
  },
  {
   "cell_type": "code",
   "execution_count": 29,
   "id": "262ba00a",
   "metadata": {},
   "outputs": [],
   "source": [
    "# group_names = ['True Pos','False Neg','False Pos','True Neg']\n",
    "\n",
    "# group_counts = [\"{0:0.0f}\".format(value) for value in cm_svm.flatten()]\n",
    "\n",
    "# group_percentages = [\"{0:.2%}\".format(value) for value in cm_svm.flatten()/np.sum(cm_svm)]\n",
    "\n",
    "# labels = [f\"{v1}\\n{v2}\\n{v3}\" for v1, v2, v3 in zip(group_names,group_counts,group_percentages)]\n",
    "# labels = np.asarray(labels).reshape(2,2)\n",
    "\n",
    "# sns.heatmap(cm_svm, annot=labels, fmt='', cmap='icefire')"
   ]
  },
  {
   "cell_type": "code",
   "execution_count": 30,
   "id": "ba6d71bd",
   "metadata": {},
   "outputs": [],
   "source": [
    "# ax= plt.subplot()\n",
    "\n",
    "# # annot=True to annotate cells, ftm='g' to disable scientific notation\n",
    "# sns.heatmap(cm_svm, annot=True, fmt='g', ax=ax, cmap='Set2');  \n",
    "\n",
    "# # labels, title and ticks\n",
    "# ax.set_xlabel('Predicted labels');ax.set_ylabel('True labels'); \n",
    "# ax.set_title('Confusion Matrix'); \n",
    "# ax.xaxis.set_ticklabels(['not aquired', 'acquired']); ax.yaxis.set_ticklabels(['not acquired', 'acquired']);"
   ]
  },
  {
   "cell_type": "markdown",
   "id": "b3033ccb",
   "metadata": {},
   "source": [
    " "
   ]
  },
  {
   "cell_type": "code",
   "execution_count": null,
   "id": "d3ac1b87",
   "metadata": {},
   "outputs": [],
   "source": []
  },
  {
   "cell_type": "markdown",
   "id": "c51ab5a8",
   "metadata": {},
   "source": [
    "## Logistic Regression"
   ]
  },
  {
   "cell_type": "code",
   "execution_count": 31,
   "id": "cf2295a8",
   "metadata": {},
   "outputs": [],
   "source": [
    "from sklearn.linear_model import LogisticRegression"
   ]
  },
  {
   "cell_type": "code",
   "execution_count": 32,
   "id": "8858cc0b",
   "metadata": {},
   "outputs": [],
   "source": [
    "logisticRegr = LogisticRegression()"
   ]
  },
  {
   "cell_type": "markdown",
   "id": "23da53d4",
   "metadata": {},
   "source": [
    " "
   ]
  },
  {
   "cell_type": "markdown",
   "id": "898f0ebc",
   "metadata": {},
   "source": [
    "#### Training Logistic Regression Model"
   ]
  },
  {
   "cell_type": "code",
   "execution_count": 33,
   "id": "d5f0a8bb",
   "metadata": {},
   "outputs": [
    {
     "name": "stderr",
     "output_type": "stream",
     "text": [
      "C:\\Users\\Sheetal\\anaconda3\\envs\\cs549\\lib\\site-packages\\sklearn\\linear_model\\_logistic.py:814: ConvergenceWarning: lbfgs failed to converge (status=1):\n",
      "STOP: TOTAL NO. of ITERATIONS REACHED LIMIT.\n",
      "\n",
      "Increase the number of iterations (max_iter) or scale the data as shown in:\n",
      "    https://scikit-learn.org/stable/modules/preprocessing.html\n",
      "Please also refer to the documentation for alternative solver options:\n",
      "    https://scikit-learn.org/stable/modules/linear_model.html#logistic-regression\n",
      "  n_iter_i = _check_optimize_result(\n"
     ]
    },
    {
     "data": {
      "text/plain": [
       "LogisticRegression()"
      ]
     },
     "execution_count": 33,
     "metadata": {},
     "output_type": "execute_result"
    }
   ],
   "source": [
    "logisticRegr.fit(X_train, y_train)"
   ]
  },
  {
   "cell_type": "code",
   "execution_count": null,
   "id": "073400a3",
   "metadata": {},
   "outputs": [],
   "source": []
  },
  {
   "cell_type": "markdown",
   "id": "e1cbd6c3",
   "metadata": {},
   "source": [
    "#### Predicting Target with Logistic Regression"
   ]
  },
  {
   "cell_type": "code",
   "execution_count": 34,
   "id": "81b002ae",
   "metadata": {},
   "outputs": [],
   "source": [
    "y_pred_lr = logisticRegr.predict(X_test)"
   ]
  },
  {
   "cell_type": "markdown",
   "id": "3dd5bed5",
   "metadata": {},
   "source": [
    "#### Metric Calculation for Logistic Regression"
   ]
  },
  {
   "cell_type": "code",
   "execution_count": 35,
   "id": "9f2be1b7",
   "metadata": {},
   "outputs": [
    {
     "data": {
      "text/plain": [
       "{0.0: 67492, 1.0: 11}"
      ]
     },
     "execution_count": 35,
     "metadata": {},
     "output_type": "execute_result"
    }
   ],
   "source": [
    "unique, counts = np.unique(y_pred_lr, return_counts=True)\n",
    "dict(zip(unique, counts))"
   ]
  },
  {
   "cell_type": "code",
   "execution_count": 36,
   "id": "1e46dae5",
   "metadata": {},
   "outputs": [
    {
     "name": "stdout",
     "output_type": "stream",
     "text": [
      "0.9916003733167414\n"
     ]
    }
   ],
   "source": [
    "lrScore = logisticRegr.score(X_test, y_test)\n",
    "print(lrScore)"
   ]
  },
  {
   "cell_type": "code",
   "execution_count": 37,
   "id": "c8a59f2f",
   "metadata": {},
   "outputs": [
    {
     "name": "stdout",
     "output_type": "stream",
     "text": [
      "Accuracy: 0.9916003733167414\n"
     ]
    }
   ],
   "source": [
    "print(\"Accuracy:\",metrics.accuracy_score(y_test, y_pred_lr))"
   ]
  },
  {
   "cell_type": "code",
   "execution_count": 38,
   "id": "269be042",
   "metadata": {},
   "outputs": [
    {
     "name": "stdout",
     "output_type": "stream",
     "text": [
      "Precision: 0.0\n"
     ]
    }
   ],
   "source": [
    "print(\"Precision:\",metrics.precision_score(y_test, y_pred_lr))"
   ]
  },
  {
   "cell_type": "code",
   "execution_count": 39,
   "id": "437c8e84",
   "metadata": {},
   "outputs": [
    {
     "name": "stdout",
     "output_type": "stream",
     "text": [
      "Recall: 0.0\n"
     ]
    }
   ],
   "source": [
    "print(\"Recall:\",metrics.recall_score(y_test, y_pred_lr))"
   ]
  },
  {
   "cell_type": "code",
   "execution_count": 40,
   "id": "c3c1c20d",
   "metadata": {},
   "outputs": [
    {
     "name": "stdout",
     "output_type": "stream",
     "text": [
      "[[66936    11]\n",
      " [  556     0]]\n"
     ]
    }
   ],
   "source": [
    "cm_lr= metrics.confusion_matrix(y_test, y_pred_lr)\n",
    "print(cm_lr)"
   ]
  },
  {
   "cell_type": "code",
   "execution_count": 41,
   "id": "414b998b",
   "metadata": {},
   "outputs": [
    {
     "data": {
      "text/plain": [
       "<AxesSubplot:>"
      ]
     },
     "execution_count": 41,
     "metadata": {},
     "output_type": "execute_result"
    },
    {
     "data": {
      "image/png": "[encoded data removed]",
      "text/plain": [
       "<Figure size 432x288 with 2 Axes>"
      ]
     },
     "metadata": {
      "needs_background": "light"
     },
     "output_type": "display_data"
    }
   ],
   "source": [
    "group_names = ['True Neg','False Pos','False Neg','True Pos']\n",
    "\n",
    "group_counts = [\"{0:0.0f}\".format(value) for value in cm_lr.flatten()]\n",
    "\n",
    "group_percentages = [\"{0:.2%}\".format(value) for value in cm_lr.flatten()/np.sum(cm_lr)]\n",
    "\n",
    "labels = [f\"{v1}\\n{v2}\\n{v3}\" for v1, v2, v3 in zip(group_names,group_counts,group_percentages)]\n",
    "labels = np.asarray(labels).reshape(2,2)\n",
    "\n",
    "sns.heatmap(cm_lr, annot=labels, fmt='', cmap='icefire')"
   ]
  },
  {
   "cell_type": "code",
   "execution_count": 42,
   "id": "eb806935",
   "metadata": {},
   "outputs": [],
   "source": [
    "# ax= plt.subplot()\n",
    "\n",
    "# # annot=True to annotate cells, ftm='g' to disable scientific notation\n",
    "# sns.heatmap(cm_lr, annot=True, fmt='g', ax=ax, cmap='Set2');  \n",
    "\n",
    "# # labels, title and ticks\n",
    "# ax.set_xlabel('Predicted labels');ax.set_ylabel('True labels'); \n",
    "# ax.set_title('Confusion Matrix'); \n",
    "# ax.xaxis.set_ticklabels(['not aquired', 'acquired']); ax.yaxis.set_ticklabels(['not acquired', 'acquired']);"
   ]
  },
  {
   "cell_type": "code",
   "execution_count": null,
   "id": "0b6ce0e3",
   "metadata": {},
   "outputs": [],
   "source": []
  },
  {
   "cell_type": "markdown",
   "id": "3cb5a1c6",
   "metadata": {},
   "source": [
    " "
   ]
  },
  {
   "cell_type": "markdown",
   "id": "8a86c2c4",
   "metadata": {},
   "source": [
    "## Feed Forward NN "
   ]
  },
  {
   "cell_type": "code",
   "execution_count": 47,
   "id": "8f90b9b9",
   "metadata": {},
   "outputs": [],
   "source": [
    "import torch"
   ]
  },
  {
   "cell_type": "code",
   "execution_count": 43,
   "id": "a3af36ea",
   "metadata": {},
   "outputs": [],
   "source": [
    "from sklearn.preprocessing import StandardScaler"
   ]
  },
  {
   "cell_type": "code",
   "execution_count": 44,
   "id": "ac9b830f",
   "metadata": {},
   "outputs": [],
   "source": [
    "scaler = StandardScaler()"
   ]
  },
  {
   "cell_type": "code",
   "execution_count": 45,
   "id": "cf6b99cd",
   "metadata": {},
   "outputs": [],
   "source": [
    "X_train = scaler.fit_transform(X_train)"
   ]
  },
  {
   "cell_type": "code",
   "execution_count": 46,
   "id": "4d5ceb43",
   "metadata": {},
   "outputs": [],
   "source": [
    "X_test = scaler.transform(X_test)"
   ]
  },
  {
   "cell_type": "code",
   "execution_count": 56,
   "id": "0be620ec",
   "metadata": {},
   "outputs": [],
   "source": [
    "y_train = y_train.to_numpy()\n",
    "y_test = y_test.to_numpy()"
   ]
  },
  {
   "cell_type": "code",
   "execution_count": 48,
   "id": "9ff76d1e",
   "metadata": {},
   "outputs": [],
   "source": [
    "class BinaryClassification(torch.nn.Module):\n",
    "    def __init__(self, input_dimension):\n",
    "        super().__init__()\n",
    "        self.linear = torch.nn.Linear(input_dimension,1)\n",
    "        \n",
    "    def forward(self, input_dimension):\n",
    "        return self.linear(input_dimension)"
   ]
  },
  {
   "cell_type": "code",
   "execution_count": 49,
   "id": "71c5871b",
   "metadata": {},
   "outputs": [],
   "source": [
    "_, input_dimension = X_train.shape"
   ]
  },
  {
   "cell_type": "code",
   "execution_count": 50,
   "id": "a044f28a",
   "metadata": {},
   "outputs": [],
   "source": [
    "model = BinaryClassification(input_dimension)"
   ]
  },
  {
   "cell_type": "code",
   "execution_count": 51,
   "id": "c86e639e",
   "metadata": {},
   "outputs": [],
   "source": [
    "def configure_loss_function():\n",
    "    return torch.nn.BCEWithLogitsLoss()\n",
    "\n",
    "def configure_optimizer(model):\n",
    "    return torch.optim.Adam(model.parameters())\n"
   ]
  },
  {
   "cell_type": "code",
   "execution_count": 67,
   "id": "28c9c716",
   "metadata": {},
   "outputs": [],
   "source": [
    "def full_gd(model, criterion, optimizer, X_train, y_train, n_epochs=2000):\n",
    "    train_losses = np.zeros(n_epochs)\n",
    "    test_losses = np.zeros(n_epochs)\n",
    "    \n",
    "    for it in range(n_epochs):\n",
    "        outputs = model(X_train)\n",
    "        loss = criterion(outputs, y_train)\n",
    "        optimizer.zero_grad()\n",
    "        loss.backward()\n",
    "        optimizer.step()\n",
    "        \n",
    "        outputs_test = model(X_test)\n",
    "        loss_test = criterion(outputs_test,y_test)\n",
    "        \n",
    "        train_losses[it] = loss.item()\n",
    "        test_losses[it] = loss_test.item()\n",
    "        \n",
    "        if (it+1)%50 == 0:\n",
    "            print(f'In this epoch {it+1}/{n_epochs}, training loss: {loss.item():.4f}, Test Loss: {loss_test.item():.4f}')\n",
    "        \n",
    "        return train_losses, test_losses\n",
    "    "
   ]
  },
  {
   "cell_type": "code",
   "execution_count": 53,
   "id": "b9ccbae0",
   "metadata": {},
   "outputs": [],
   "source": [
    "X_train = torch.from_numpy(X_train.astype(np.float32))"
   ]
  },
  {
   "cell_type": "code",
   "execution_count": 54,
   "id": "19155e3f",
   "metadata": {},
   "outputs": [],
   "source": [
    "X_test = torch.from_numpy(X_test.astype(np.float32))"
   ]
  },
  {
   "cell_type": "code",
   "execution_count": 57,
   "id": "5fc49280",
   "metadata": {},
   "outputs": [],
   "source": [
    "y_train = torch.from_numpy(y_train.astype(np.float32).reshape(-1,1))"
   ]
  },
  {
   "cell_type": "code",
   "execution_count": 58,
   "id": "403eec89",
   "metadata": {},
   "outputs": [],
   "source": [
    "y_test = torch.from_numpy(y_test.astype(np.float32).reshape(-1,1))"
   ]
  },
  {
   "cell_type": "code",
   "execution_count": 59,
   "id": "76a83fb4",
   "metadata": {},
   "outputs": [],
   "source": [
    "criterion = configure_loss_function()"
   ]
  },
  {
   "cell_type": "code",
   "execution_count": 61,
   "id": "b65210fb",
   "metadata": {},
   "outputs": [],
   "source": [
    "optimizer = configure_optimizer(model)"
   ]
  },
  {
   "cell_type": "code",
   "execution_count": 68,
   "id": "69acfa9e",
   "metadata": {},
   "outputs": [],
   "source": [
    "train_losses, test_losses = full_gd(model, criterion, optimizer, X_train,y_train)"
   ]
  },
  {
   "cell_type": "code",
   "execution_count": 69,
   "id": "fded4e85",
   "metadata": {},
   "outputs": [
    {
     "name": "stdout",
     "output_type": "stream",
     "text": [
      "Training:  0.8351882773464037\n",
      "Testing:  0.8344369879857192\n"
     ]
    }
   ],
   "source": [
    "with torch.no_grad():\n",
    "    p_train = model(X_train)\n",
    "    p_train = (p_train.numpy() > 0)\n",
    "    \n",
    "    train_acc = np.mean(y_train.numpy() == p_train)\n",
    "    \n",
    "    p_test = model(X_test)\n",
    "    p_test = (p_test.numpy() > 0)\n",
    "    \n",
    "    test_acc = np.mean(y_test.numpy() == p_test)\n",
    "    \n",
    "print(\"Training: \",train_acc)\n",
    "print(\"Testing: \", test_acc)"
   ]
  },
  {
   "cell_type": "code",
   "execution_count": 70,
   "id": "2c8233b5",
   "metadata": {},
   "outputs": [
    {
     "name": "stdout",
     "output_type": "stream",
     "text": [
      "Accuracy: 0.8344369879857192\n"
     ]
    }
   ],
   "source": [
    "print(\"Accuracy:\",metrics.accuracy_score(y_test, p_test))"
   ]
  },
  {
   "cell_type": "code",
   "execution_count": 71,
   "id": "0f92fec6",
   "metadata": {},
   "outputs": [
    {
     "name": "stdout",
     "output_type": "stream",
     "text": [
      "Precision: 0.0060465116279069765\n"
     ]
    }
   ],
   "source": [
    "print(\"Precision:\",metrics.precision_score(y_test, p_test))"
   ]
  },
  {
   "cell_type": "code",
   "execution_count": 72,
   "id": "2f55e6dc",
   "metadata": {},
   "outputs": [
    {
     "name": "stdout",
     "output_type": "stream",
     "text": [
      "Recall: 0.11690647482014388\n"
     ]
    }
   ],
   "source": [
    "print(\"Recall:\",metrics.recall_score(y_test, p_test))"
   ]
  },
  {
   "cell_type": "code",
   "execution_count": 73,
   "id": "0ceb1a39",
   "metadata": {},
   "outputs": [
    {
     "name": "stdout",
     "output_type": "stream",
     "text": [
      "[[56262 10685]\n",
      " [  491    65]]\n"
     ]
    }
   ],
   "source": [
    "cm_nn= metrics.confusion_matrix(y_test, p_test)\n",
    "print(cm_nn)"
   ]
  },
  {
   "cell_type": "code",
   "execution_count": 74,
   "id": "f89dcd17",
   "metadata": {},
   "outputs": [
    {
     "data": {
      "text/plain": [
       "<AxesSubplot:>"
      ]
     },
     "execution_count": 74,
     "metadata": {},
     "output_type": "execute_result"
    },
    {
     "data": {
      "image/png": "[encoded data removed]",
      "text/plain": [
       "<Figure size 432x288 with 2 Axes>"
      ]
     },
     "metadata": {
      "needs_background": "light"
     },
     "output_type": "display_data"
    }
   ],
   "source": [
    "group_names = ['True Neg','False Pos','False Neg','True Pos']\n",
    "\n",
    "group_counts = [\"{0:0.0f}\".format(value) for value in cm_nn.flatten()]\n",
    "\n",
    "group_percentages = [\"{0:.2%}\".format(value) for value in cm_nn.flatten()/np.sum(cm_nn)]\n",
    "\n",
    "labels = [f\"{v1}\\n{v2}\\n{v3}\" for v1, v2, v3 in zip(group_names,group_counts,group_percentages)]\n",
    "labels = np.asarray(labels).reshape(2,2)\n",
    "\n",
    "sns.heatmap(cm_nn, annot=labels, fmt='', cmap='icefire')"
   ]
  },
  {
   "cell_type": "code",
   "execution_count": null,
   "id": "9d1cefb1",
   "metadata": {},
   "outputs": [],
   "source": []
  }
 ],
 "metadata": {
  "kernelspec": {
   "display_name": "cs549",
   "language": "python",
   "name": "cs549"
  },
  "language_info": {
   "codemirror_mode": {
    "name": "ipython",
    "version": 3
   },
   "file_extension": ".py",
   "mimetype": "text/x-python",
   "name": "python",
   "nbconvert_exporter": "python",
   "pygments_lexer": "ipython3",
   "version": "3.8.13"
  }
 },
 "nbformat": 4,
 "nbformat_minor": 5
}
