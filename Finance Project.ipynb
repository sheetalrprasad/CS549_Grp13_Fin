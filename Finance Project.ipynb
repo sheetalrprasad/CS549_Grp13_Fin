{
 "cells": [
  {
   "cell_type": "code",
   "execution_count": 1,
   "id": "5186375b",
   "metadata": {},
   "outputs": [],
   "source": [
    "import numpy as np\n",
    "import pandas as pd\n",
    "import matplotlib.pyplot as plt\n",
    "import seaborn as sns\n",
    "\n",
    "%matplotlib inline"
   ]
  },
  {
   "cell_type": "code",
   "execution_count": 2,
   "id": "ab6fe4a7",
   "metadata": {},
   "outputs": [],
   "source": [
    "from sklearn.model_selection import train_test_split\n",
    "from sklearn import metrics"
   ]
  },
  {
   "cell_type": "markdown",
   "id": "e6bb78c7",
   "metadata": {},
   "source": [
    "#### File Reading"
   ]
  },
  {
   "cell_type": "code",
   "execution_count": 3,
   "id": "1636e0cb",
   "metadata": {},
   "outputs": [],
   "source": [
    "csvFileLocation = 'data/targetfirm_prediction_dataset_small.csv'"
   ]
  },
  {
   "cell_type": "code",
   "execution_count": 4,
   "id": "34d669d7",
   "metadata": {},
   "outputs": [],
   "source": [
    "finance_dataframe = pd.read_csv(csvFileLocation)"
   ]
  },
  {
   "cell_type": "code",
   "execution_count": 5,
   "id": "234b030b",
   "metadata": {},
   "outputs": [
    {
     "data": {
      "text/html": [
       "<div>\n",
       "<style scoped>\n",
       "    .dataframe tbody tr th:only-of-type {\n",
       "        vertical-align: middle;\n",
       "    }\n",
       "\n",
       "    .dataframe tbody tr th {\n",
       "        vertical-align: top;\n",
       "    }\n",
       "\n",
       "    .dataframe thead th {\n",
       "        text-align: right;\n",
       "    }\n",
       "</style>\n",
       "<table border=\"1\" class=\"dataframe\">\n",
       "  <thead>\n",
       "    <tr style=\"text-align: right;\">\n",
       "      <th></th>\n",
       "      <th>Unnamed: 0</th>\n",
       "      <th>gvkey</th>\n",
       "      <th>fyear</th>\n",
       "      <th>target</th>\n",
       "      <th>at</th>\n",
       "      <th>revt</th>\n",
       "      <th>ib</th>\n",
       "      <th>ca</th>\n",
       "      <th>capx</th>\n",
       "      <th>ceq</th>\n",
       "      <th>che</th>\n",
       "      <th>emp</th>\n",
       "      <th>invt</th>\n",
       "      <th>re</th>\n",
       "      <th>xrd</th>\n",
       "      <th>dltt</th>\n",
       "      <th>dv</th>\n",
       "      <th>sic</th>\n",
       "    </tr>\n",
       "  </thead>\n",
       "  <tbody>\n",
       "    <tr>\n",
       "      <th>0</th>\n",
       "      <td>6</td>\n",
       "      <td>1004</td>\n",
       "      <td>2000.0</td>\n",
       "      <td>0.0</td>\n",
       "      <td>701.854</td>\n",
       "      <td>874.255</td>\n",
       "      <td>18.531</td>\n",
       "      <td>NaN</td>\n",
       "      <td>13.134</td>\n",
       "      <td>340.212</td>\n",
       "      <td>13.809</td>\n",
       "      <td>2.5</td>\n",
       "      <td>320.590</td>\n",
       "      <td>204.065</td>\n",
       "      <td>NaN</td>\n",
       "      <td>179.987</td>\n",
       "      <td>9.157</td>\n",
       "      <td>5080.0</td>\n",
       "    </tr>\n",
       "    <tr>\n",
       "      <th>1</th>\n",
       "      <td>7</td>\n",
       "      <td>1004</td>\n",
       "      <td>2001.0</td>\n",
       "      <td>0.0</td>\n",
       "      <td>710.199</td>\n",
       "      <td>638.721</td>\n",
       "      <td>-58.939</td>\n",
       "      <td>NaN</td>\n",
       "      <td>12.112</td>\n",
       "      <td>310.235</td>\n",
       "      <td>34.522</td>\n",
       "      <td>2.2</td>\n",
       "      <td>286.588</td>\n",
       "      <td>139.603</td>\n",
       "      <td>NaN</td>\n",
       "      <td>217.699</td>\n",
       "      <td>4.430</td>\n",
       "      <td>5080.0</td>\n",
       "    </tr>\n",
       "    <tr>\n",
       "      <th>2</th>\n",
       "      <td>8</td>\n",
       "      <td>1004</td>\n",
       "      <td>2002.0</td>\n",
       "      <td>0.0</td>\n",
       "      <td>686.621</td>\n",
       "      <td>606.337</td>\n",
       "      <td>-12.410</td>\n",
       "      <td>NaN</td>\n",
       "      <td>9.930</td>\n",
       "      <td>294.988</td>\n",
       "      <td>29.154</td>\n",
       "      <td>2.1</td>\n",
       "      <td>259.954</td>\n",
       "      <td>124.106</td>\n",
       "      <td>NaN</td>\n",
       "      <td>164.658</td>\n",
       "      <td>0.797</td>\n",
       "      <td>5080.0</td>\n",
       "    </tr>\n",
       "    <tr>\n",
       "      <th>3</th>\n",
       "      <td>9</td>\n",
       "      <td>1004</td>\n",
       "      <td>2003.0</td>\n",
       "      <td>0.0</td>\n",
       "      <td>709.292</td>\n",
       "      <td>651.958</td>\n",
       "      <td>3.504</td>\n",
       "      <td>NaN</td>\n",
       "      <td>10.286</td>\n",
       "      <td>301.684</td>\n",
       "      <td>41.010</td>\n",
       "      <td>2.3</td>\n",
       "      <td>247.245</td>\n",
       "      <td>131.884</td>\n",
       "      <td>NaN</td>\n",
       "      <td>248.666</td>\n",
       "      <td>0.000</td>\n",
       "      <td>5080.0</td>\n",
       "    </tr>\n",
       "    <tr>\n",
       "      <th>4</th>\n",
       "      <td>10</td>\n",
       "      <td>1004</td>\n",
       "      <td>2004.0</td>\n",
       "      <td>0.0</td>\n",
       "      <td>732.230</td>\n",
       "      <td>747.848</td>\n",
       "      <td>18.572</td>\n",
       "      <td>NaN</td>\n",
       "      <td>13.033</td>\n",
       "      <td>314.744</td>\n",
       "      <td>50.338</td>\n",
       "      <td>2.6</td>\n",
       "      <td>255.477</td>\n",
       "      <td>142.450</td>\n",
       "      <td>NaN</td>\n",
       "      <td>227.159</td>\n",
       "      <td>0.000</td>\n",
       "      <td>5080.0</td>\n",
       "    </tr>\n",
       "  </tbody>\n",
       "</table>\n",
       "</div>"
      ],
      "text/plain": [
       "   Unnamed: 0  gvkey   fyear  target       at     revt      ib  ca    capx  \\\n",
       "0           6   1004  2000.0     0.0  701.854  874.255  18.531 NaN  13.134   \n",
       "1           7   1004  2001.0     0.0  710.199  638.721 -58.939 NaN  12.112   \n",
       "2           8   1004  2002.0     0.0  686.621  606.337 -12.410 NaN   9.930   \n",
       "3           9   1004  2003.0     0.0  709.292  651.958   3.504 NaN  10.286   \n",
       "4          10   1004  2004.0     0.0  732.230  747.848  18.572 NaN  13.033   \n",
       "\n",
       "       ceq     che  emp     invt       re  xrd     dltt     dv     sic  \n",
       "0  340.212  13.809  2.5  320.590  204.065  NaN  179.987  9.157  5080.0  \n",
       "1  310.235  34.522  2.2  286.588  139.603  NaN  217.699  4.430  5080.0  \n",
       "2  294.988  29.154  2.1  259.954  124.106  NaN  164.658  0.797  5080.0  \n",
       "3  301.684  41.010  2.3  247.245  131.884  NaN  248.666  0.000  5080.0  \n",
       "4  314.744  50.338  2.6  255.477  142.450  NaN  227.159  0.000  5080.0  "
      ]
     },
     "execution_count": 5,
     "metadata": {},
     "output_type": "execute_result"
    }
   ],
   "source": [
    "finance_dataframe.head()"
   ]
  },
  {
   "cell_type": "markdown",
   "id": "e4bfab61",
   "metadata": {},
   "source": [
    " "
   ]
  },
  {
   "cell_type": "markdown",
   "id": "dac0df68",
   "metadata": {},
   "source": [
    "#### Data Cleaning"
   ]
  },
  {
   "cell_type": "code",
   "execution_count": 6,
   "id": "d1709fcb",
   "metadata": {},
   "outputs": [
    {
     "data": {
      "text/plain": [
       "Unnamed: 0         0\n",
       "gvkey              0\n",
       "fyear              0\n",
       "target             0\n",
       "at             34635\n",
       "revt           35677\n",
       "ib             35660\n",
       "ca            211399\n",
       "capx           63184\n",
       "ceq            35063\n",
       "che            57076\n",
       "emp            63859\n",
       "invt           53353\n",
       "re             40548\n",
       "xrd           150287\n",
       "dltt           35036\n",
       "dv             65058\n",
       "sic                3\n",
       "dtype: int64"
      ]
     },
     "execution_count": 6,
     "metadata": {},
     "output_type": "execute_result"
    }
   ],
   "source": [
    "finance_dataframe.isna().sum()"
   ]
  },
  {
   "cell_type": "code",
   "execution_count": 7,
   "id": "e65343c7",
   "metadata": {},
   "outputs": [],
   "source": [
    "# # dropping columns which contains more than 60% NaN values.\n",
    "\n",
    "# columns = finance_dataframe.columns\n",
    "# for col in columns:\n",
    "#     if finance_dataframe[col].isna().sum() >= len(finance_dataframe)*0.6:\n",
    "#         finance_dataframe.drop(columns=[col], inplace=True)"
   ]
  },
  {
   "cell_type": "code",
   "execution_count": 8,
   "id": "20843c19",
   "metadata": {},
   "outputs": [],
   "source": [
    "finance_dataframe.fillna(0,inplace=True)"
   ]
  },
  {
   "cell_type": "code",
   "execution_count": 9,
   "id": "0bf745b7",
   "metadata": {},
   "outputs": [
    {
     "data": {
      "text/plain": [
       "Unnamed: 0    0\n",
       "gvkey         0\n",
       "fyear         0\n",
       "target        0\n",
       "at            0\n",
       "revt          0\n",
       "ib            0\n",
       "ca            0\n",
       "capx          0\n",
       "ceq           0\n",
       "che           0\n",
       "emp           0\n",
       "invt          0\n",
       "re            0\n",
       "xrd           0\n",
       "dltt          0\n",
       "dv            0\n",
       "sic           0\n",
       "dtype: int64"
      ]
     },
     "execution_count": 9,
     "metadata": {},
     "output_type": "execute_result"
    }
   ],
   "source": [
    "finance_dataframe.isna().sum()"
   ]
  },
  {
   "cell_type": "code",
   "execution_count": 10,
   "id": "418f3d60",
   "metadata": {},
   "outputs": [],
   "source": [
    "# for features not using Unnamed: 0, gvkey, fyear and no target\n",
    "finance_features = finance_dataframe.iloc[:,3:len(finance_dataframe.columns)]"
   ]
  },
  {
   "cell_type": "markdown",
   "id": "ab5e2abd",
   "metadata": {},
   "source": [
    " "
   ]
  },
  {
   "cell_type": "markdown",
   "id": "ad4849fa",
   "metadata": {},
   "source": [
    "#### Data Visualization"
   ]
  },
  {
   "cell_type": "code",
   "execution_count": 11,
   "id": "56689340",
   "metadata": {},
   "outputs": [
    {
     "data": {
      "text/html": [
       "<div>\n",
       "<style scoped>\n",
       "    .dataframe tbody tr th:only-of-type {\n",
       "        vertical-align: middle;\n",
       "    }\n",
       "\n",
       "    .dataframe tbody tr th {\n",
       "        vertical-align: top;\n",
       "    }\n",
       "\n",
       "    .dataframe thead th {\n",
       "        text-align: right;\n",
       "    }\n",
       "</style>\n",
       "<table border=\"1\" class=\"dataframe\">\n",
       "  <thead>\n",
       "    <tr style=\"text-align: right;\">\n",
       "      <th></th>\n",
       "      <th>target</th>\n",
       "      <th>at</th>\n",
       "      <th>revt</th>\n",
       "      <th>ib</th>\n",
       "      <th>ca</th>\n",
       "      <th>capx</th>\n",
       "      <th>ceq</th>\n",
       "      <th>che</th>\n",
       "      <th>emp</th>\n",
       "      <th>invt</th>\n",
       "      <th>re</th>\n",
       "      <th>xrd</th>\n",
       "      <th>dltt</th>\n",
       "      <th>dv</th>\n",
       "      <th>sic</th>\n",
       "    </tr>\n",
       "  </thead>\n",
       "  <tbody>\n",
       "    <tr>\n",
       "      <th>target</th>\n",
       "      <td>1.000000</td>\n",
       "      <td>0.007956</td>\n",
       "      <td>0.012633</td>\n",
       "      <td>0.009578</td>\n",
       "      <td>-0.001701</td>\n",
       "      <td>-0.000295</td>\n",
       "      <td>0.013463</td>\n",
       "      <td>0.007151</td>\n",
       "      <td>0.004641</td>\n",
       "      <td>0.002051</td>\n",
       "      <td>0.010845</td>\n",
       "      <td>0.000005</td>\n",
       "      <td>0.001124</td>\n",
       "      <td>0.001559</td>\n",
       "      <td>0.018790</td>\n",
       "    </tr>\n",
       "    <tr>\n",
       "      <th>at</th>\n",
       "      <td>0.007956</td>\n",
       "      <td>1.000000</td>\n",
       "      <td>0.475869</td>\n",
       "      <td>0.361056</td>\n",
       "      <td>0.197135</td>\n",
       "      <td>0.155549</td>\n",
       "      <td>0.611279</td>\n",
       "      <td>0.606885</td>\n",
       "      <td>0.278413</td>\n",
       "      <td>0.261155</td>\n",
       "      <td>0.443250</td>\n",
       "      <td>0.064187</td>\n",
       "      <td>0.588733</td>\n",
       "      <td>0.308805</td>\n",
       "      <td>0.036945</td>\n",
       "    </tr>\n",
       "    <tr>\n",
       "      <th>revt</th>\n",
       "      <td>0.012633</td>\n",
       "      <td>0.475869</td>\n",
       "      <td>1.000000</td>\n",
       "      <td>0.574908</td>\n",
       "      <td>0.048207</td>\n",
       "      <td>0.685839</td>\n",
       "      <td>0.707128</td>\n",
       "      <td>0.308636</td>\n",
       "      <td>0.668437</td>\n",
       "      <td>0.230391</td>\n",
       "      <td>0.664255</td>\n",
       "      <td>0.404001</td>\n",
       "      <td>0.272088</td>\n",
       "      <td>0.557734</td>\n",
       "      <td>-0.020152</td>\n",
       "    </tr>\n",
       "    <tr>\n",
       "      <th>ib</th>\n",
       "      <td>0.009578</td>\n",
       "      <td>0.361056</td>\n",
       "      <td>0.574908</td>\n",
       "      <td>1.000000</td>\n",
       "      <td>0.064588</td>\n",
       "      <td>0.433550</td>\n",
       "      <td>0.592323</td>\n",
       "      <td>0.247623</td>\n",
       "      <td>0.348491</td>\n",
       "      <td>0.151357</td>\n",
       "      <td>0.604742</td>\n",
       "      <td>0.284968</td>\n",
       "      <td>0.203847</td>\n",
       "      <td>0.534578</td>\n",
       "      <td>-0.007802</td>\n",
       "    </tr>\n",
       "    <tr>\n",
       "      <th>ca</th>\n",
       "      <td>-0.001701</td>\n",
       "      <td>0.197135</td>\n",
       "      <td>0.048207</td>\n",
       "      <td>0.064588</td>\n",
       "      <td>1.000000</td>\n",
       "      <td>-0.002868</td>\n",
       "      <td>0.074508</td>\n",
       "      <td>-0.001430</td>\n",
       "      <td>0.027778</td>\n",
       "      <td>-0.001086</td>\n",
       "      <td>0.066614</td>\n",
       "      <td>-0.002031</td>\n",
       "      <td>0.050753</td>\n",
       "      <td>-0.002540</td>\n",
       "      <td>0.009017</td>\n",
       "    </tr>\n",
       "    <tr>\n",
       "      <th>capx</th>\n",
       "      <td>-0.000295</td>\n",
       "      <td>0.155549</td>\n",
       "      <td>0.685839</td>\n",
       "      <td>0.433550</td>\n",
       "      <td>-0.002868</td>\n",
       "      <td>1.000000</td>\n",
       "      <td>0.557142</td>\n",
       "      <td>0.128961</td>\n",
       "      <td>0.432310</td>\n",
       "      <td>0.125157</td>\n",
       "      <td>0.529393</td>\n",
       "      <td>0.340061</td>\n",
       "      <td>0.094468</td>\n",
       "      <td>0.514502</td>\n",
       "      <td>-0.061823</td>\n",
       "    </tr>\n",
       "    <tr>\n",
       "      <th>ceq</th>\n",
       "      <td>0.013463</td>\n",
       "      <td>0.611279</td>\n",
       "      <td>0.707128</td>\n",
       "      <td>0.592323</td>\n",
       "      <td>0.074508</td>\n",
       "      <td>0.557142</td>\n",
       "      <td>1.000000</td>\n",
       "      <td>0.439403</td>\n",
       "      <td>0.467133</td>\n",
       "      <td>0.234837</td>\n",
       "      <td>0.823977</td>\n",
       "      <td>0.297994</td>\n",
       "      <td>0.087902</td>\n",
       "      <td>0.463579</td>\n",
       "      <td>0.000085</td>\n",
       "    </tr>\n",
       "    <tr>\n",
       "      <th>che</th>\n",
       "      <td>0.007151</td>\n",
       "      <td>0.606885</td>\n",
       "      <td>0.308636</td>\n",
       "      <td>0.247623</td>\n",
       "      <td>-0.001430</td>\n",
       "      <td>0.128961</td>\n",
       "      <td>0.439403</td>\n",
       "      <td>1.000000</td>\n",
       "      <td>0.187329</td>\n",
       "      <td>0.478348</td>\n",
       "      <td>0.332835</td>\n",
       "      <td>0.097758</td>\n",
       "      <td>0.241643</td>\n",
       "      <td>0.276193</td>\n",
       "      <td>0.020470</td>\n",
       "    </tr>\n",
       "    <tr>\n",
       "      <th>emp</th>\n",
       "      <td>0.004641</td>\n",
       "      <td>0.278413</td>\n",
       "      <td>0.668437</td>\n",
       "      <td>0.348491</td>\n",
       "      <td>0.027778</td>\n",
       "      <td>0.432310</td>\n",
       "      <td>0.467133</td>\n",
       "      <td>0.187329</td>\n",
       "      <td>1.000000</td>\n",
       "      <td>0.158001</td>\n",
       "      <td>0.410306</td>\n",
       "      <td>0.313703</td>\n",
       "      <td>0.113206</td>\n",
       "      <td>0.338371</td>\n",
       "      <td>-0.001246</td>\n",
       "    </tr>\n",
       "    <tr>\n",
       "      <th>invt</th>\n",
       "      <td>0.002051</td>\n",
       "      <td>0.261155</td>\n",
       "      <td>0.230391</td>\n",
       "      <td>0.151357</td>\n",
       "      <td>-0.001086</td>\n",
       "      <td>0.125157</td>\n",
       "      <td>0.234837</td>\n",
       "      <td>0.478348</td>\n",
       "      <td>0.158001</td>\n",
       "      <td>1.000000</td>\n",
       "      <td>0.214674</td>\n",
       "      <td>0.074789</td>\n",
       "      <td>0.111289</td>\n",
       "      <td>0.163072</td>\n",
       "      <td>0.004972</td>\n",
       "    </tr>\n",
       "    <tr>\n",
       "      <th>re</th>\n",
       "      <td>0.010845</td>\n",
       "      <td>0.443250</td>\n",
       "      <td>0.664255</td>\n",
       "      <td>0.604742</td>\n",
       "      <td>0.066614</td>\n",
       "      <td>0.529393</td>\n",
       "      <td>0.823977</td>\n",
       "      <td>0.332835</td>\n",
       "      <td>0.410306</td>\n",
       "      <td>0.214674</td>\n",
       "      <td>1.000000</td>\n",
       "      <td>0.287159</td>\n",
       "      <td>0.004597</td>\n",
       "      <td>0.428920</td>\n",
       "      <td>-0.005840</td>\n",
       "    </tr>\n",
       "    <tr>\n",
       "      <th>xrd</th>\n",
       "      <td>0.000005</td>\n",
       "      <td>0.064187</td>\n",
       "      <td>0.404001</td>\n",
       "      <td>0.284968</td>\n",
       "      <td>-0.002031</td>\n",
       "      <td>0.340061</td>\n",
       "      <td>0.297994</td>\n",
       "      <td>0.097758</td>\n",
       "      <td>0.313703</td>\n",
       "      <td>0.074789</td>\n",
       "      <td>0.287159</td>\n",
       "      <td>1.000000</td>\n",
       "      <td>0.041073</td>\n",
       "      <td>0.341034</td>\n",
       "      <td>-0.044442</td>\n",
       "    </tr>\n",
       "    <tr>\n",
       "      <th>dltt</th>\n",
       "      <td>0.001124</td>\n",
       "      <td>0.588733</td>\n",
       "      <td>0.272088</td>\n",
       "      <td>0.203847</td>\n",
       "      <td>0.050753</td>\n",
       "      <td>0.094468</td>\n",
       "      <td>0.087902</td>\n",
       "      <td>0.241643</td>\n",
       "      <td>0.113206</td>\n",
       "      <td>0.111289</td>\n",
       "      <td>0.004597</td>\n",
       "      <td>0.041073</td>\n",
       "      <td>1.000000</td>\n",
       "      <td>0.306937</td>\n",
       "      <td>0.016958</td>\n",
       "    </tr>\n",
       "    <tr>\n",
       "      <th>dv</th>\n",
       "      <td>0.001559</td>\n",
       "      <td>0.308805</td>\n",
       "      <td>0.557734</td>\n",
       "      <td>0.534578</td>\n",
       "      <td>-0.002540</td>\n",
       "      <td>0.514502</td>\n",
       "      <td>0.463579</td>\n",
       "      <td>0.276193</td>\n",
       "      <td>0.338371</td>\n",
       "      <td>0.163072</td>\n",
       "      <td>0.428920</td>\n",
       "      <td>0.341034</td>\n",
       "      <td>0.306937</td>\n",
       "      <td>1.000000</td>\n",
       "      <td>-0.032400</td>\n",
       "    </tr>\n",
       "    <tr>\n",
       "      <th>sic</th>\n",
       "      <td>0.018790</td>\n",
       "      <td>0.036945</td>\n",
       "      <td>-0.020152</td>\n",
       "      <td>-0.007802</td>\n",
       "      <td>0.009017</td>\n",
       "      <td>-0.061823</td>\n",
       "      <td>0.000085</td>\n",
       "      <td>0.020470</td>\n",
       "      <td>-0.001246</td>\n",
       "      <td>0.004972</td>\n",
       "      <td>-0.005840</td>\n",
       "      <td>-0.044442</td>\n",
       "      <td>0.016958</td>\n",
       "      <td>-0.032400</td>\n",
       "      <td>1.000000</td>\n",
       "    </tr>\n",
       "  </tbody>\n",
       "</table>\n",
       "</div>"
      ],
      "text/plain": [
       "          target        at      revt        ib        ca      capx       ceq  \\\n",
       "target  1.000000  0.007956  0.012633  0.009578 -0.001701 -0.000295  0.013463   \n",
       "at      0.007956  1.000000  0.475869  0.361056  0.197135  0.155549  0.611279   \n",
       "revt    0.012633  0.475869  1.000000  0.574908  0.048207  0.685839  0.707128   \n",
       "ib      0.009578  0.361056  0.574908  1.000000  0.064588  0.433550  0.592323   \n",
       "ca     -0.001701  0.197135  0.048207  0.064588  1.000000 -0.002868  0.074508   \n",
       "capx   -0.000295  0.155549  0.685839  0.433550 -0.002868  1.000000  0.557142   \n",
       "ceq     0.013463  0.611279  0.707128  0.592323  0.074508  0.557142  1.000000   \n",
       "che     0.007151  0.606885  0.308636  0.247623 -0.001430  0.128961  0.439403   \n",
       "emp     0.004641  0.278413  0.668437  0.348491  0.027778  0.432310  0.467133   \n",
       "invt    0.002051  0.261155  0.230391  0.151357 -0.001086  0.125157  0.234837   \n",
       "re      0.010845  0.443250  0.664255  0.604742  0.066614  0.529393  0.823977   \n",
       "xrd     0.000005  0.064187  0.404001  0.284968 -0.002031  0.340061  0.297994   \n",
       "dltt    0.001124  0.588733  0.272088  0.203847  0.050753  0.094468  0.087902   \n",
       "dv      0.001559  0.308805  0.557734  0.534578 -0.002540  0.514502  0.463579   \n",
       "sic     0.018790  0.036945 -0.020152 -0.007802  0.009017 -0.061823  0.000085   \n",
       "\n",
       "             che       emp      invt        re       xrd      dltt        dv  \\\n",
       "target  0.007151  0.004641  0.002051  0.010845  0.000005  0.001124  0.001559   \n",
       "at      0.606885  0.278413  0.261155  0.443250  0.064187  0.588733  0.308805   \n",
       "revt    0.308636  0.668437  0.230391  0.664255  0.404001  0.272088  0.557734   \n",
       "ib      0.247623  0.348491  0.151357  0.604742  0.284968  0.203847  0.534578   \n",
       "ca     -0.001430  0.027778 -0.001086  0.066614 -0.002031  0.050753 -0.002540   \n",
       "capx    0.128961  0.432310  0.125157  0.529393  0.340061  0.094468  0.514502   \n",
       "ceq     0.439403  0.467133  0.234837  0.823977  0.297994  0.087902  0.463579   \n",
       "che     1.000000  0.187329  0.478348  0.332835  0.097758  0.241643  0.276193   \n",
       "emp     0.187329  1.000000  0.158001  0.410306  0.313703  0.113206  0.338371   \n",
       "invt    0.478348  0.158001  1.000000  0.214674  0.074789  0.111289  0.163072   \n",
       "re      0.332835  0.410306  0.214674  1.000000  0.287159  0.004597  0.428920   \n",
       "xrd     0.097758  0.313703  0.074789  0.287159  1.000000  0.041073  0.341034   \n",
       "dltt    0.241643  0.113206  0.111289  0.004597  0.041073  1.000000  0.306937   \n",
       "dv      0.276193  0.338371  0.163072  0.428920  0.341034  0.306937  1.000000   \n",
       "sic     0.020470 -0.001246  0.004972 -0.005840 -0.044442  0.016958 -0.032400   \n",
       "\n",
       "             sic  \n",
       "target  0.018790  \n",
       "at      0.036945  \n",
       "revt   -0.020152  \n",
       "ib     -0.007802  \n",
       "ca      0.009017  \n",
       "capx   -0.061823  \n",
       "ceq     0.000085  \n",
       "che     0.020470  \n",
       "emp    -0.001246  \n",
       "invt    0.004972  \n",
       "re     -0.005840  \n",
       "xrd    -0.044442  \n",
       "dltt    0.016958  \n",
       "dv     -0.032400  \n",
       "sic     1.000000  "
      ]
     },
     "execution_count": 11,
     "metadata": {},
     "output_type": "execute_result"
    }
   ],
   "source": [
    "finance_features.corr()"
   ]
  },
  {
   "cell_type": "code",
   "execution_count": 12,
   "id": "367ba109",
   "metadata": {},
   "outputs": [
    {
     "data": {
      "text/plain": [
       "<AxesSubplot:>"
      ]
     },
     "execution_count": 12,
     "metadata": {},
     "output_type": "execute_result"
    },
    {
     "data": {
      "image/png": "[encoded data removed]",
      "text/plain": [
       "<Figure size 1440x720 with 2 Axes>"
      ]
     },
     "metadata": {
      "needs_background": "light"
     },
     "output_type": "display_data"
    }
   ],
   "source": [
    "fig, ax = plt.subplots(figsize=(20,10))  \n",
    "sns.heatmap(finance_features.corr(), cmap=\"YlGnBu\", linewidths=0.1, annot=True, ax=ax)"
   ]
  },
  {
   "cell_type": "code",
   "execution_count": 13,
   "id": "cb0bd0b0",
   "metadata": {},
   "outputs": [],
   "source": [
    "# sns.pairplot(finance_features, hue='target', height=2.5)"
   ]
  },
  {
   "cell_type": "markdown",
   "id": "5985dc46",
   "metadata": {},
   "source": [
    " "
   ]
  },
  {
   "cell_type": "markdown",
   "id": "9c451d05",
   "metadata": {},
   "source": [
    "# Train Test Split of Data"
   ]
  },
  {
   "cell_type": "code",
   "execution_count": 14,
   "id": "ffe7aa22",
   "metadata": {},
   "outputs": [],
   "source": [
    "# 70% training and 30% test\n",
    "X_train, X_test, y_train, y_test = train_test_split(finance_features, finance_features['target'], test_size=0.3,random_state=100)"
   ]
  },
  {
   "cell_type": "code",
   "execution_count": null,
   "id": "0746655d",
   "metadata": {},
   "outputs": [],
   "source": []
  },
  {
   "cell_type": "code",
   "execution_count": 15,
   "id": "38f967de",
   "metadata": {},
   "outputs": [
    {
     "data": {
      "text/plain": [
       "{0.0: 156202, 1.0: 1305}"
      ]
     },
     "execution_count": 15,
     "metadata": {},
     "output_type": "execute_result"
    }
   ],
   "source": [
    "unique, counts = np.unique(X_train['target'], return_counts=True)\n",
    "dict(zip(unique, counts))"
   ]
  },
  {
   "cell_type": "code",
   "execution_count": 16,
   "id": "372fb189",
   "metadata": {},
   "outputs": [
    {
     "data": {
      "text/plain": [
       "{0.0: 66947, 1.0: 556}"
      ]
     },
     "execution_count": 16,
     "metadata": {},
     "output_type": "execute_result"
    }
   ],
   "source": [
    "unique, counts = np.unique(X_test['target'], return_counts=True)\n",
    "dict(zip(unique, counts))"
   ]
  },
  {
   "cell_type": "code",
   "execution_count": null,
   "id": "3def1e43",
   "metadata": {},
   "outputs": [],
   "source": []
  },
  {
   "cell_type": "markdown",
   "id": "3c9a04d5",
   "metadata": {},
   "source": [
    "## SVM"
   ]
  },
  {
   "cell_type": "markdown",
   "id": "ae2a7017",
   "metadata": {},
   "source": [
    "#### Training SVM Model"
   ]
  },
  {
   "cell_type": "code",
   "execution_count": 17,
   "id": "e83b2d50",
   "metadata": {},
   "outputs": [],
   "source": [
    "# from sklearn import svm"
   ]
  },
  {
   "cell_type": "code",
   "execution_count": 18,
   "id": "d9076fb3",
   "metadata": {},
   "outputs": [],
   "source": [
    "# sampleN = int(len(X_train)*0.05)\n",
    "# sampleN"
   ]
  },
  {
   "cell_type": "code",
   "execution_count": 19,
   "id": "408aacf8",
   "metadata": {},
   "outputs": [],
   "source": [
    "# # SVM takes time to train, hence taking 5% sample of the training data to train the model\n",
    "\n",
    "# sample_X = X_train.sample(sampleN)\n",
    "# sample_y = sample_X['target']"
   ]
  },
  {
   "cell_type": "markdown",
   "id": "708e8dc5",
   "metadata": {},
   "source": [
    " "
   ]
  },
  {
   "cell_type": "code",
   "execution_count": 20,
   "id": "f08b65b5",
   "metadata": {},
   "outputs": [],
   "source": [
    "# clf = svm.SVC(kernel='linear')"
   ]
  },
  {
   "cell_type": "code",
   "execution_count": 21,
   "id": "889b51e5",
   "metadata": {},
   "outputs": [],
   "source": [
    "# # Taking too much time\n",
    "# # clf.fit(X_train, y_train)\n",
    "\n",
    "# clf.fit(sample_X,sample_y)"
   ]
  },
  {
   "cell_type": "code",
   "execution_count": 22,
   "id": "5dcdd5fe",
   "metadata": {},
   "outputs": [],
   "source": [
    "# import findspark\n",
    "# findspark.init()\n",
    "\n",
    "# import pyspark\n",
    "# import random\n",
    "\n",
    "# sc = pyspark.SparkContext(appName=\"svc\")\n",
    "\n",
    "# sc.parallelize(clf.fit(X_train,y_train))\n",
    "\n",
    "# sc.stop()\n",
    "\n",
    "# y_pred = clf.predict(X_test)\n",
    "\n",
    "# print(\"Accuracy:\",metrics.accuracy_score(y_test, y_pred))"
   ]
  },
  {
   "cell_type": "code",
   "execution_count": null,
   "id": "677f9729",
   "metadata": {},
   "outputs": [],
   "source": []
  },
  {
   "cell_type": "markdown",
   "id": "53db1aba",
   "metadata": {},
   "source": [
    "#### Predicting Target with SVM"
   ]
  },
  {
   "cell_type": "code",
   "execution_count": 23,
   "id": "ac151a68",
   "metadata": {},
   "outputs": [],
   "source": [
    "# y_pred_svm = clf.predict(X_test)"
   ]
  },
  {
   "cell_type": "code",
   "execution_count": 24,
   "id": "f3f2f986",
   "metadata": {},
   "outputs": [],
   "source": [
    "# unique, counts = np.unique(y_pred_svm, return_counts=True)\n",
    "# dict(zip(unique, counts))"
   ]
  },
  {
   "cell_type": "markdown",
   "id": "5b8a8aac",
   "metadata": {},
   "source": [
    "#### Metric Calculations for SVM"
   ]
  },
  {
   "cell_type": "code",
   "execution_count": 25,
   "id": "5d912010",
   "metadata": {},
   "outputs": [],
   "source": [
    "# print(\"Accuracy:\",metrics.accuracy_score(y_test, y_pred_svm))"
   ]
  },
  {
   "cell_type": "code",
   "execution_count": 26,
   "id": "c86d2793",
   "metadata": {},
   "outputs": [],
   "source": [
    "# print(\"Precision:\",metrics.precision_score(y_test, y_pred_svm))"
   ]
  },
  {
   "cell_type": "code",
   "execution_count": 27,
   "id": "b00b4fb8",
   "metadata": {},
   "outputs": [],
   "source": [
    "# print(\"Recall:\",metrics.recall_score(y_test, y_pred_svm))"
   ]
  },
  {
   "cell_type": "code",
   "execution_count": 28,
   "id": "c1b5893a",
   "metadata": {},
   "outputs": [],
   "source": [
    "# cm_svm = metrics.confusion_matrix(y_test, y_pred_svm)\n",
    "# print(cm_svm)"
   ]
  },
  {
   "cell_type": "code",
   "execution_count": 29,
   "id": "262ba00a",
   "metadata": {},
   "outputs": [],
   "source": [
    "# group_names = ['True Pos','False Neg','False Pos','True Neg']\n",
    "\n",
    "# group_counts = [\"{0:0.0f}\".format(value) for value in cm_svm.flatten()]\n",
    "\n",
    "# group_percentages = [\"{0:.2%}\".format(value) for value in cm_svm.flatten()/np.sum(cm_svm)]\n",
    "\n",
    "# labels = [f\"{v1}\\n{v2}\\n{v3}\" for v1, v2, v3 in zip(group_names,group_counts,group_percentages)]\n",
    "# labels = np.asarray(labels).reshape(2,2)\n",
    "\n",
    "# sns.heatmap(cm_svm, annot=labels, fmt='', cmap='icefire')"
   ]
  },
  {
   "cell_type": "code",
   "execution_count": 30,
   "id": "ba6d71bd",
   "metadata": {},
   "outputs": [],
   "source": [
    "# ax= plt.subplot()\n",
    "\n",
    "# # annot=True to annotate cells, ftm='g' to disable scientific notation\n",
    "# sns.heatmap(cm_svm, annot=True, fmt='g', ax=ax, cmap='Set2');  \n",
    "\n",
    "# # labels, title and ticks\n",
    "# ax.set_xlabel('Predicted labels');ax.set_ylabel('True labels'); \n",
    "# ax.set_title('Confusion Matrix'); \n",
    "# ax.xaxis.set_ticklabels(['not aquired', 'acquired']); ax.yaxis.set_ticklabels(['not acquired', 'acquired']);"
   ]
  },
  {
   "cell_type": "markdown",
   "id": "b3033ccb",
   "metadata": {},
   "source": [
    " "
   ]
  },
  {
   "cell_type": "code",
   "execution_count": null,
   "id": "d3ac1b87",
   "metadata": {},
   "outputs": [],
   "source": []
  },
  {
   "cell_type": "markdown",
   "id": "c51ab5a8",
   "metadata": {},
   "source": [
    "## Logistic Regression"
   ]
  },
  {
   "cell_type": "code",
   "execution_count": 31,
   "id": "cf2295a8",
   "metadata": {},
   "outputs": [],
   "source": [
    "from sklearn.linear_model import LogisticRegression"
   ]
  },
  {
   "cell_type": "code",
   "execution_count": 32,
   "id": "8858cc0b",
   "metadata": {},
   "outputs": [],
   "source": [
    "logisticRegr = LogisticRegression()"
   ]
  },
  {
   "cell_type": "markdown",
   "id": "23da53d4",
   "metadata": {},
   "source": [
    " "
   ]
  },
  {
   "cell_type": "markdown",
   "id": "898f0ebc",
   "metadata": {},
   "source": [
    "#### Training Logistic Regression Model"
   ]
  },
  {
   "cell_type": "code",
   "execution_count": 33,
   "id": "d5f0a8bb",
   "metadata": {},
   "outputs": [
    {
     "name": "stderr",
     "output_type": "stream",
     "text": [
      "C:\\Users\\Sheetal\\anaconda3\\envs\\cs549\\lib\\site-packages\\sklearn\\linear_model\\_logistic.py:814: ConvergenceWarning: lbfgs failed to converge (status=1):\n",
      "STOP: TOTAL NO. of ITERATIONS REACHED LIMIT.\n",
      "\n",
      "Increase the number of iterations (max_iter) or scale the data as shown in:\n",
      "    https://scikit-learn.org/stable/modules/preprocessing.html\n",
      "Please also refer to the documentation for alternative solver options:\n",
      "    https://scikit-learn.org/stable/modules/linear_model.html#logistic-regression\n",
      "  n_iter_i = _check_optimize_result(\n"
     ]
    },
    {
     "data": {
      "text/plain": [
       "LogisticRegression()"
      ]
     },
     "execution_count": 33,
     "metadata": {},
     "output_type": "execute_result"
    }
   ],
   "source": [
    "logisticRegr.fit(X_train, y_train)"
   ]
  },
  {
   "cell_type": "code",
   "execution_count": null,
   "id": "073400a3",
   "metadata": {},
   "outputs": [],
   "source": []
  },
  {
   "cell_type": "markdown",
   "id": "e1cbd6c3",
   "metadata": {},
   "source": [
    "#### Predicting Target with Logistic Regression"
   ]
  },
  {
   "cell_type": "code",
   "execution_count": 34,
   "id": "81b002ae",
   "metadata": {},
   "outputs": [],
   "source": [
    "y_pred_lr = logisticRegr.predict(X_test)"
   ]
  },
  {
   "cell_type": "markdown",
   "id": "3dd5bed5",
   "metadata": {},
   "source": [
    "#### Metric Calculation for Logistic Regression"
   ]
  },
  {
   "cell_type": "code",
   "execution_count": 35,
   "id": "9f2be1b7",
   "metadata": {},
   "outputs": [
    {
     "data": {
      "text/plain": [
       "{0.0: 67493, 1.0: 10}"
      ]
     },
     "execution_count": 35,
     "metadata": {},
     "output_type": "execute_result"
    }
   ],
   "source": [
    "unique, counts = np.unique(y_pred_lr, return_counts=True)\n",
    "dict(zip(unique, counts))"
   ]
  },
  {
   "cell_type": "code",
   "execution_count": 36,
   "id": "1e46dae5",
   "metadata": {},
   "outputs": [
    {
     "name": "stdout",
     "output_type": "stream",
     "text": [
      "0.9916151874731494\n"
     ]
    }
   ],
   "source": [
    "lrScore = logisticRegr.score(X_test, y_test)\n",
    "print(lrScore)"
   ]
  },
  {
   "cell_type": "code",
   "execution_count": 37,
   "id": "c8a59f2f",
   "metadata": {},
   "outputs": [
    {
     "name": "stdout",
     "output_type": "stream",
     "text": [
      "Accuracy: 0.9916151874731494\n"
     ]
    }
   ],
   "source": [
    "print(\"Accuracy:\",metrics.accuracy_score(y_test, y_pred_lr))"
   ]
  },
  {
   "cell_type": "code",
   "execution_count": 38,
   "id": "269be042",
   "metadata": {},
   "outputs": [
    {
     "name": "stdout",
     "output_type": "stream",
     "text": [
      "Precision: 0.0\n"
     ]
    }
   ],
   "source": [
    "print(\"Precision:\",metrics.precision_score(y_test, y_pred_lr))"
   ]
  },
  {
   "cell_type": "code",
   "execution_count": 39,
   "id": "437c8e84",
   "metadata": {},
   "outputs": [
    {
     "name": "stdout",
     "output_type": "stream",
     "text": [
      "Recall: 0.0\n"
     ]
    }
   ],
   "source": [
    "print(\"Recall:\",metrics.recall_score(y_test, y_pred_lr))"
   ]
  },
  {
   "cell_type": "code",
   "execution_count": 40,
   "id": "c3c1c20d",
   "metadata": {},
   "outputs": [
    {
     "name": "stdout",
     "output_type": "stream",
     "text": [
      "[[66937    10]\n",
      " [  556     0]]\n"
     ]
    }
   ],
   "source": [
    "cm_lr= metrics.confusion_matrix(y_test, y_pred_lr)\n",
    "print(cm_lr)"
   ]
  },
  {
   "cell_type": "code",
   "execution_count": 41,
   "id": "414b998b",
   "metadata": {},
   "outputs": [
    {
     "data": {
      "text/plain": [
       "<AxesSubplot:>"
      ]
     },
     "execution_count": 41,
     "metadata": {},
     "output_type": "execute_result"
    },
    {
     "data": {
      "image/png": "[encoded data removed]",
      "text/plain": [
       "<Figure size 432x288 with 2 Axes>"
      ]
     },
     "metadata": {
      "needs_background": "light"
     },
     "output_type": "display_data"
    }
   ],
   "source": [
    "group_names = ['True Neg','False Pos','False Neg','True Pos']\n",
    "\n",
    "group_counts = [\"{0:0.0f}\".format(value) for value in cm_lr.flatten()]\n",
    "\n",
    "group_percentages = [\"{0:.2%}\".format(value) for value in cm_lr.flatten()/np.sum(cm_lr)]\n",
    "\n",
    "labels = [f\"{v1}\\n{v2}\\n{v3}\" for v1, v2, v3 in zip(group_names,group_counts,group_percentages)]\n",
    "labels = np.asarray(labels).reshape(2,2)\n",
    "\n",
    "sns.heatmap(cm_lr, annot=labels, fmt='', cmap='icefire')"
   ]
  },
  {
   "cell_type": "code",
   "execution_count": 42,
   "id": "eb806935",
   "metadata": {},
   "outputs": [],
   "source": [
    "# ax= plt.subplot()\n",
    "\n",
    "# # annot=True to annotate cells, ftm='g' to disable scientific notation\n",
    "# sns.heatmap(cm_lr, annot=True, fmt='g', ax=ax, cmap='Set2');  \n",
    "\n",
    "# # labels, title and ticks\n",
    "# ax.set_xlabel('Predicted labels');ax.set_ylabel('True labels'); \n",
    "# ax.set_title('Confusion Matrix'); \n",
    "# ax.xaxis.set_ticklabels(['not aquired', 'acquired']); ax.yaxis.set_ticklabels(['not acquired', 'acquired']);"
   ]
  },
  {
   "cell_type": "code",
   "execution_count": null,
   "id": "0b6ce0e3",
   "metadata": {},
   "outputs": [],
   "source": []
  },
  {
   "cell_type": "markdown",
   "id": "3cb5a1c6",
   "metadata": {},
   "source": [
    " "
   ]
  },
  {
   "cell_type": "markdown",
   "id": "8a86c2c4",
   "metadata": {},
   "source": [
    "## Feed Forward NN "
   ]
  },
  {
   "cell_type": "code",
   "execution_count": 43,
   "id": "033bcab6",
   "metadata": {},
   "outputs": [],
   "source": [
    "import tensorflow as tf"
   ]
  },
  {
   "cell_type": "code",
   "execution_count": 65,
   "id": "206c3d1e",
   "metadata": {},
   "outputs": [],
   "source": [
    "y = finance_features['target'].values\n",
    "X = finance_features.iloc[:,1:].values"
   ]
  },
  {
   "cell_type": "code",
   "execution_count": 66,
   "id": "eb262f1c",
   "metadata": {},
   "outputs": [
    {
     "name": "stdout",
     "output_type": "stream",
     "text": [
      "(157507, 15)\n",
      "(157507, 1)\n",
      "(67503, 15)\n",
      "(67503, 1)\n"
     ]
    }
   ],
   "source": [
    "print(X_train.shape)\n",
    "print(y_train.shape)\n",
    "print(X_test.shape)\n",
    "print(y_test.shape)"
   ]
  },
  {
   "cell_type": "code",
   "execution_count": null,
   "id": "3044ae76",
   "metadata": {},
   "outputs": [],
   "source": []
  },
  {
   "cell_type": "code",
   "execution_count": null,
   "id": "003ce003",
   "metadata": {},
   "outputs": [],
   "source": []
  },
  {
   "cell_type": "code",
   "execution_count": null,
   "id": "dde17c42",
   "metadata": {},
   "outputs": [],
   "source": []
  },
  {
   "cell_type": "code",
   "execution_count": null,
   "id": "188dc3b0",
   "metadata": {},
   "outputs": [],
   "source": []
  },
  {
   "cell_type": "code",
   "execution_count": null,
   "id": "2991dfe7",
   "metadata": {},
   "outputs": [],
   "source": []
  },
  {
   "cell_type": "code",
   "execution_count": 51,
   "id": "81377b93",
   "metadata": {},
   "outputs": [
    {
     "name": "stdout",
     "output_type": "stream",
     "text": [
      "(157507, 15)\n",
      "(157507, 1)\n",
      "(67503, 15)\n",
      "(67503, 1)\n"
     ]
    }
   ],
   "source": [
    "print(X_train.shape)\n",
    "print(y_train.shape)\n",
    "print(X_test.shape)\n",
    "print(y_test.shape)"
   ]
  },
  {
   "cell_type": "code",
   "execution_count": null,
   "id": "ebb7d89a",
   "metadata": {},
   "outputs": [],
   "source": []
  },
  {
   "cell_type": "code",
   "execution_count": 67,
   "id": "92523d57",
   "metadata": {},
   "outputs": [],
   "source": [
    "learningRate = 0.01\n",
    "trainingEpochs = 10\n",
    "n_classes= 1\n",
    "\n",
    "cost_history = np.empty(shape=[1],dtype=float)"
   ]
  },
  {
   "cell_type": "code",
   "execution_count": 68,
   "id": "345b8629",
   "metadata": {},
   "outputs": [],
   "source": [
    "tf.compat.v1.disable_eager_execution()"
   ]
  },
  {
   "cell_type": "code",
   "execution_count": 69,
   "id": "2d12d0ee",
   "metadata": {},
   "outputs": [],
   "source": [
    "x = tf.compat.v1.placeholder(tf.float32,[None, 15])\n",
    "W = tf.Variable(tf.zeros([15,n_classes]))\n",
    "b = tf.Variable(tf.zeros([n_classes]))"
   ]
  },
  {
   "cell_type": "code",
   "execution_count": 70,
   "id": "9108bc57",
   "metadata": {},
   "outputs": [],
   "source": [
    "init = tf.compat.v1.global_variables_initializer()"
   ]
  },
  {
   "cell_type": "code",
   "execution_count": 71,
   "id": "7f927e07",
   "metadata": {},
   "outputs": [],
   "source": [
    "y = tf.compat.v1.placeholder(tf.float32,[None, n_classes])"
   ]
  },
  {
   "cell_type": "code",
   "execution_count": 72,
   "id": "58ed714c",
   "metadata": {},
   "outputs": [],
   "source": [
    "pred = tf.nn.softmax(tf.matmul(x,W)+b)"
   ]
  },
  {
   "cell_type": "code",
   "execution_count": 73,
   "id": "84c39c59",
   "metadata": {},
   "outputs": [],
   "source": [
    "cost_function = tf.reduce_mean(-tf.reduce_sum((y*tf.math.log(pred))))"
   ]
  },
  {
   "cell_type": "code",
   "execution_count": 74,
   "id": "01168a00",
   "metadata": {},
   "outputs": [],
   "source": [
    "training_step = tf.compat.v1.train.GradientDescentOptimizer(learningRate).minimize(cost_function)"
   ]
  },
  {
   "cell_type": "code",
   "execution_count": 75,
   "id": "2635a786",
   "metadata": {},
   "outputs": [],
   "source": [
    "sess= tf.compat.v1.Session()\n",
    "sess.run(init)\n",
    "mse_history = []"
   ]
  },
  {
   "cell_type": "code",
   "execution_count": 76,
   "id": "763f5dfb",
   "metadata": {},
   "outputs": [
    {
     "name": "stdout",
     "output_type": "stream",
     "text": [
      "Epoch:  0  Cost: -0.0\n",
      "Epoch:  1  Cost: -0.0\n",
      "Epoch:  2  Cost: -0.0\n",
      "Epoch:  3  Cost: -0.0\n",
      "Epoch:  4  Cost: -0.0\n",
      "Epoch:  5  Cost: -0.0\n",
      "Epoch:  6  Cost: -0.0\n",
      "Epoch:  7  Cost: -0.0\n",
      "Epoch:  8  Cost: -0.0\n",
      "Epoch:  9  Cost: -0.0\n"
     ]
    }
   ],
   "source": [
    "for i in range(10):\n",
    "    sess.run(training_step,feed_dict=({x:X_train, y: y_train}))\n",
    "    cost = sess.run(cost_function, feed_dict={x: X_train, y : y_train})\n",
    "    cost_history = np.append(cost_history,cost)\n",
    "    \n",
    "    pred_y = sess.run(pred, feed_dict={x:X_test})\n",
    "    print(\"Epoch: \",i,\" Cost:\",cost)\n",
    "    \n",
    "    mse = tf.reduce_mean(tf.square(pred_y - y_test))\n",
    "    mse_history.append(sess.run(mse))"
   ]
  },
  {
   "cell_type": "code",
   "execution_count": 77,
   "id": "cc51955d",
   "metadata": {},
   "outputs": [
    {
     "name": "stdout",
     "output_type": "stream",
     "text": [
      "Accuracy:  1.0\n"
     ]
    }
   ],
   "source": [
    "correct_prediction = tf.equal(tf.argmax(pred,1), tf.argmax(y,1))\n",
    "accuracy = tf.reduce_mean(tf.cast(correct_prediction, tf.float32))\n",
    "print(\"Accuracy: \",(sess.run(accuracy, feed_dict={x: X_test, y: y_test})))"
   ]
  },
  {
   "cell_type": "code",
   "execution_count": null,
   "id": "f1303e0e",
   "metadata": {},
   "outputs": [],
   "source": []
  }
 ],
 "metadata": {
  "kernelspec": {
   "display_name": "cs549",
   "language": "python",
   "name": "cs549"
  },
  "language_info": {
   "codemirror_mode": {
    "name": "ipython",
    "version": 3
   },
   "file_extension": ".py",
   "mimetype": "text/x-python",
   "name": "python",
   "nbconvert_exporter": "python",
   "pygments_lexer": "ipython3",
   "version": "3.8.13"
  }
 },
 "nbformat": 4,
 "nbformat_minor": 5
}
