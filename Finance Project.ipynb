{
 "cells": [
  {
   "cell_type": "code",
   "execution_count": 2,
   "id": "6de90c8b",
   "metadata": {},
   "outputs": [],
   "source": [
    "import numpy as np\n",
    "import pandas as pd\n",
    "import matplotlib.pyplot as plt\n",
    "import seaborn as sns\n",
    "\n",
    "%matplotlib inline"
   ]
  },
  {
   "cell_type": "code",
   "execution_count": null,
   "id": "6cd7b641",
   "metadata": {},
   "outputs": [],
   "source": [
    "from sklearn.model_selection import train_test_split\n",
    "from sklearn import metrics"
   ]
  },
  {
   "cell_type": "markdown",
   "id": "df5b5503",
   "metadata": {},
   "source": [
    "#### File Reading"
   ]
  },
  {
   "cell_type": "code",
   "execution_count": 3,
   "id": "16792498",
   "metadata": {},
   "outputs": [],
   "source": [
    "csvFileLocation = 'targetfirm_prediction_dataset_small.csv'"
   ]
  },
  {
   "cell_type": "code",
   "execution_count": 4,
   "id": "629eec6d",
   "metadata": {},
   "outputs": [],
   "source": [
    "finance_dataframe = pd.read_csv(csvFileLocation)"
   ]
  },
  {
   "cell_type": "code",
   "execution_count": 5,
   "id": "0b75caae",
   "metadata": {},
   "outputs": [
    {
     "data": {
      "text/html": [
       "<div>\n",
       "<style scoped>\n",
       "    .dataframe tbody tr th:only-of-type {\n",
       "        vertical-align: middle;\n",
       "    }\n",
       "\n",
       "    .dataframe tbody tr th {\n",
       "        vertical-align: top;\n",
       "    }\n",
       "\n",
       "    .dataframe thead th {\n",
       "        text-align: right;\n",
       "    }\n",
       "</style>\n",
       "<table border=\"1\" class=\"dataframe\">\n",
       "  <thead>\n",
       "    <tr style=\"text-align: right;\">\n",
       "      <th></th>\n",
       "      <th>Unnamed: 0</th>\n",
       "      <th>gvkey</th>\n",
       "      <th>fyear</th>\n",
       "      <th>target</th>\n",
       "      <th>at</th>\n",
       "      <th>revt</th>\n",
       "      <th>ib</th>\n",
       "      <th>ca</th>\n",
       "      <th>capx</th>\n",
       "      <th>ceq</th>\n",
       "      <th>che</th>\n",
       "      <th>emp</th>\n",
       "      <th>invt</th>\n",
       "      <th>re</th>\n",
       "      <th>xrd</th>\n",
       "      <th>dltt</th>\n",
       "      <th>dv</th>\n",
       "      <th>sic</th>\n",
       "    </tr>\n",
       "  </thead>\n",
       "  <tbody>\n",
       "    <tr>\n",
       "      <th>0</th>\n",
       "      <td>6</td>\n",
       "      <td>1004</td>\n",
       "      <td>2000.0</td>\n",
       "      <td>0.0</td>\n",
       "      <td>701.854</td>\n",
       "      <td>874.255</td>\n",
       "      <td>18.531</td>\n",
       "      <td>NaN</td>\n",
       "      <td>13.134</td>\n",
       "      <td>340.212</td>\n",
       "      <td>13.809</td>\n",
       "      <td>2.5</td>\n",
       "      <td>320.590</td>\n",
       "      <td>204.065</td>\n",
       "      <td>NaN</td>\n",
       "      <td>179.987</td>\n",
       "      <td>9.157</td>\n",
       "      <td>5080.0</td>\n",
       "    </tr>\n",
       "    <tr>\n",
       "      <th>1</th>\n",
       "      <td>7</td>\n",
       "      <td>1004</td>\n",
       "      <td>2001.0</td>\n",
       "      <td>0.0</td>\n",
       "      <td>710.199</td>\n",
       "      <td>638.721</td>\n",
       "      <td>-58.939</td>\n",
       "      <td>NaN</td>\n",
       "      <td>12.112</td>\n",
       "      <td>310.235</td>\n",
       "      <td>34.522</td>\n",
       "      <td>2.2</td>\n",
       "      <td>286.588</td>\n",
       "      <td>139.603</td>\n",
       "      <td>NaN</td>\n",
       "      <td>217.699</td>\n",
       "      <td>4.430</td>\n",
       "      <td>5080.0</td>\n",
       "    </tr>\n",
       "    <tr>\n",
       "      <th>2</th>\n",
       "      <td>8</td>\n",
       "      <td>1004</td>\n",
       "      <td>2002.0</td>\n",
       "      <td>0.0</td>\n",
       "      <td>686.621</td>\n",
       "      <td>606.337</td>\n",
       "      <td>-12.410</td>\n",
       "      <td>NaN</td>\n",
       "      <td>9.930</td>\n",
       "      <td>294.988</td>\n",
       "      <td>29.154</td>\n",
       "      <td>2.1</td>\n",
       "      <td>259.954</td>\n",
       "      <td>124.106</td>\n",
       "      <td>NaN</td>\n",
       "      <td>164.658</td>\n",
       "      <td>0.797</td>\n",
       "      <td>5080.0</td>\n",
       "    </tr>\n",
       "    <tr>\n",
       "      <th>3</th>\n",
       "      <td>9</td>\n",
       "      <td>1004</td>\n",
       "      <td>2003.0</td>\n",
       "      <td>0.0</td>\n",
       "      <td>709.292</td>\n",
       "      <td>651.958</td>\n",
       "      <td>3.504</td>\n",
       "      <td>NaN</td>\n",
       "      <td>10.286</td>\n",
       "      <td>301.684</td>\n",
       "      <td>41.010</td>\n",
       "      <td>2.3</td>\n",
       "      <td>247.245</td>\n",
       "      <td>131.884</td>\n",
       "      <td>NaN</td>\n",
       "      <td>248.666</td>\n",
       "      <td>0.000</td>\n",
       "      <td>5080.0</td>\n",
       "    </tr>\n",
       "    <tr>\n",
       "      <th>4</th>\n",
       "      <td>10</td>\n",
       "      <td>1004</td>\n",
       "      <td>2004.0</td>\n",
       "      <td>0.0</td>\n",
       "      <td>732.230</td>\n",
       "      <td>747.848</td>\n",
       "      <td>18.572</td>\n",
       "      <td>NaN</td>\n",
       "      <td>13.033</td>\n",
       "      <td>314.744</td>\n",
       "      <td>50.338</td>\n",
       "      <td>2.6</td>\n",
       "      <td>255.477</td>\n",
       "      <td>142.450</td>\n",
       "      <td>NaN</td>\n",
       "      <td>227.159</td>\n",
       "      <td>0.000</td>\n",
       "      <td>5080.0</td>\n",
       "    </tr>\n",
       "  </tbody>\n",
       "</table>\n",
       "</div>"
      ],
      "text/plain": [
       "   Unnamed: 0  gvkey   fyear  target       at     revt      ib  ca    capx  \\\n",
       "0           6   1004  2000.0     0.0  701.854  874.255  18.531 NaN  13.134   \n",
       "1           7   1004  2001.0     0.0  710.199  638.721 -58.939 NaN  12.112   \n",
       "2           8   1004  2002.0     0.0  686.621  606.337 -12.410 NaN   9.930   \n",
       "3           9   1004  2003.0     0.0  709.292  651.958   3.504 NaN  10.286   \n",
       "4          10   1004  2004.0     0.0  732.230  747.848  18.572 NaN  13.033   \n",
       "\n",
       "       ceq     che  emp     invt       re  xrd     dltt     dv     sic  \n",
       "0  340.212  13.809  2.5  320.590  204.065  NaN  179.987  9.157  5080.0  \n",
       "1  310.235  34.522  2.2  286.588  139.603  NaN  217.699  4.430  5080.0  \n",
       "2  294.988  29.154  2.1  259.954  124.106  NaN  164.658  0.797  5080.0  \n",
       "3  301.684  41.010  2.3  247.245  131.884  NaN  248.666  0.000  5080.0  \n",
       "4  314.744  50.338  2.6  255.477  142.450  NaN  227.159  0.000  5080.0  "
      ]
     },
     "execution_count": 5,
     "metadata": {},
     "output_type": "execute_result"
    }
   ],
   "source": [
    "finance_dataframe.head()"
   ]
  },
  {
   "cell_type": "code",
   "execution_count": null,
   "id": "c1f06c45",
   "metadata": {},
   "outputs": [],
   "source": []
  },
  {
   "cell_type": "markdown",
   "id": "4f78cac9",
   "metadata": {},
   "source": [
    "#### Data Cleaning"
   ]
  },
  {
   "cell_type": "code",
   "execution_count": 6,
   "id": "6f19c552",
   "metadata": {},
   "outputs": [
    {
     "data": {
      "text/plain": [
       "Unnamed: 0         0\n",
       "gvkey              0\n",
       "fyear              0\n",
       "target             0\n",
       "at             34635\n",
       "revt           35677\n",
       "ib             35660\n",
       "ca            211399\n",
       "capx           63184\n",
       "ceq            35063\n",
       "che            57076\n",
       "emp            63859\n",
       "invt           53353\n",
       "re             40548\n",
       "xrd           150287\n",
       "dltt           35036\n",
       "dv             65058\n",
       "sic                3\n",
       "dtype: int64"
      ]
     },
     "execution_count": 6,
     "metadata": {},
     "output_type": "execute_result"
    }
   ],
   "source": [
    "finance_dataframe.isna().sum()"
   ]
  },
  {
   "cell_type": "code",
   "execution_count": 7,
   "id": "09cf82bc",
   "metadata": {},
   "outputs": [],
   "source": [
    "columns = finance_dataframe.columns\n",
    "for col in columns:\n",
    "    if finance_dataframe[col].isna().sum() >= len(finance_dataframe)*0.6:\n",
    "        finance_dataframe.drop(columns=[col], inplace=True)"
   ]
  },
  {
   "cell_type": "code",
   "execution_count": 8,
   "id": "b2771c1e",
   "metadata": {},
   "outputs": [],
   "source": [
    "finance_dataframe.fillna(0,inplace=True)"
   ]
  },
  {
   "cell_type": "code",
   "execution_count": 9,
   "id": "0ea98cb8",
   "metadata": {},
   "outputs": [
    {
     "data": {
      "text/plain": [
       "Unnamed: 0    0\n",
       "gvkey         0\n",
       "fyear         0\n",
       "target        0\n",
       "at            0\n",
       "revt          0\n",
       "ib            0\n",
       "capx          0\n",
       "ceq           0\n",
       "che           0\n",
       "emp           0\n",
       "invt          0\n",
       "re            0\n",
       "dltt          0\n",
       "dv            0\n",
       "sic           0\n",
       "dtype: int64"
      ]
     },
     "execution_count": 9,
     "metadata": {},
     "output_type": "execute_result"
    }
   ],
   "source": [
    "finance_dataframe.isna().sum()"
   ]
  },
  {
   "cell_type": "code",
   "execution_count": null,
   "id": "996174f9",
   "metadata": {},
   "outputs": [],
   "source": []
  },
  {
   "cell_type": "markdown",
   "id": "5d26f849",
   "metadata": {},
   "source": [
    "#### Data Visualization"
   ]
  },
  {
   "cell_type": "code",
   "execution_count": 10,
   "id": "0d8a824c",
   "metadata": {},
   "outputs": [
    {
     "data": {
      "text/html": [
       "<div>\n",
       "<style scoped>\n",
       "    .dataframe tbody tr th:only-of-type {\n",
       "        vertical-align: middle;\n",
       "    }\n",
       "\n",
       "    .dataframe tbody tr th {\n",
       "        vertical-align: top;\n",
       "    }\n",
       "\n",
       "    .dataframe thead th {\n",
       "        text-align: right;\n",
       "    }\n",
       "</style>\n",
       "<table border=\"1\" class=\"dataframe\">\n",
       "  <thead>\n",
       "    <tr style=\"text-align: right;\">\n",
       "      <th></th>\n",
       "      <th>Unnamed: 0</th>\n",
       "      <th>gvkey</th>\n",
       "      <th>fyear</th>\n",
       "      <th>target</th>\n",
       "      <th>at</th>\n",
       "      <th>revt</th>\n",
       "      <th>ib</th>\n",
       "      <th>capx</th>\n",
       "      <th>ceq</th>\n",
       "      <th>che</th>\n",
       "      <th>emp</th>\n",
       "      <th>invt</th>\n",
       "      <th>re</th>\n",
       "      <th>dltt</th>\n",
       "      <th>dv</th>\n",
       "      <th>sic</th>\n",
       "    </tr>\n",
       "  </thead>\n",
       "  <tbody>\n",
       "    <tr>\n",
       "      <th>Unnamed: 0</th>\n",
       "      <td>1.000000</td>\n",
       "      <td>0.952367</td>\n",
       "      <td>0.155923</td>\n",
       "      <td>0.001362</td>\n",
       "      <td>-0.083680</td>\n",
       "      <td>-0.133506</td>\n",
       "      <td>-0.084847</td>\n",
       "      <td>-0.076715</td>\n",
       "      <td>-0.111489</td>\n",
       "      <td>-0.047532</td>\n",
       "      <td>-0.122380</td>\n",
       "      <td>-0.038656</td>\n",
       "      <td>-0.100092</td>\n",
       "      <td>-0.052703</td>\n",
       "      <td>-0.080442</td>\n",
       "      <td>0.049279</td>\n",
       "    </tr>\n",
       "    <tr>\n",
       "      <th>gvkey</th>\n",
       "      <td>0.952367</td>\n",
       "      <td>1.000000</td>\n",
       "      <td>0.160542</td>\n",
       "      <td>-0.000995</td>\n",
       "      <td>-0.061759</td>\n",
       "      <td>-0.098166</td>\n",
       "      <td>-0.059629</td>\n",
       "      <td>-0.048796</td>\n",
       "      <td>-0.079737</td>\n",
       "      <td>-0.033973</td>\n",
       "      <td>-0.090618</td>\n",
       "      <td>-0.031278</td>\n",
       "      <td>-0.071371</td>\n",
       "      <td>-0.039388</td>\n",
       "      <td>-0.054188</td>\n",
       "      <td>0.025079</td>\n",
       "    </tr>\n",
       "    <tr>\n",
       "      <th>fyear</th>\n",
       "      <td>0.155923</td>\n",
       "      <td>0.160542</td>\n",
       "      <td>1.000000</td>\n",
       "      <td>-0.022569</td>\n",
       "      <td>0.028465</td>\n",
       "      <td>0.031154</td>\n",
       "      <td>0.031602</td>\n",
       "      <td>0.028104</td>\n",
       "      <td>0.048720</td>\n",
       "      <td>0.021665</td>\n",
       "      <td>0.009652</td>\n",
       "      <td>0.004314</td>\n",
       "      <td>0.034446</td>\n",
       "      <td>0.018861</td>\n",
       "      <td>0.042587</td>\n",
       "      <td>0.001752</td>\n",
       "    </tr>\n",
       "    <tr>\n",
       "      <th>target</th>\n",
       "      <td>0.001362</td>\n",
       "      <td>-0.000995</td>\n",
       "      <td>-0.022569</td>\n",
       "      <td>1.000000</td>\n",
       "      <td>0.007956</td>\n",
       "      <td>0.012633</td>\n",
       "      <td>0.009578</td>\n",
       "      <td>-0.000295</td>\n",
       "      <td>0.013463</td>\n",
       "      <td>0.007151</td>\n",
       "      <td>0.004641</td>\n",
       "      <td>0.002051</td>\n",
       "      <td>0.010845</td>\n",
       "      <td>0.001124</td>\n",
       "      <td>0.001559</td>\n",
       "      <td>0.018790</td>\n",
       "    </tr>\n",
       "    <tr>\n",
       "      <th>at</th>\n",
       "      <td>-0.083680</td>\n",
       "      <td>-0.061759</td>\n",
       "      <td>0.028465</td>\n",
       "      <td>0.007956</td>\n",
       "      <td>1.000000</td>\n",
       "      <td>0.475869</td>\n",
       "      <td>0.361056</td>\n",
       "      <td>0.155549</td>\n",
       "      <td>0.611279</td>\n",
       "      <td>0.606885</td>\n",
       "      <td>0.278413</td>\n",
       "      <td>0.261155</td>\n",
       "      <td>0.443250</td>\n",
       "      <td>0.588733</td>\n",
       "      <td>0.308805</td>\n",
       "      <td>0.036945</td>\n",
       "    </tr>\n",
       "    <tr>\n",
       "      <th>revt</th>\n",
       "      <td>-0.133506</td>\n",
       "      <td>-0.098166</td>\n",
       "      <td>0.031154</td>\n",
       "      <td>0.012633</td>\n",
       "      <td>0.475869</td>\n",
       "      <td>1.000000</td>\n",
       "      <td>0.574908</td>\n",
       "      <td>0.685839</td>\n",
       "      <td>0.707128</td>\n",
       "      <td>0.308636</td>\n",
       "      <td>0.668437</td>\n",
       "      <td>0.230391</td>\n",
       "      <td>0.664255</td>\n",
       "      <td>0.272088</td>\n",
       "      <td>0.557734</td>\n",
       "      <td>-0.020152</td>\n",
       "    </tr>\n",
       "    <tr>\n",
       "      <th>ib</th>\n",
       "      <td>-0.084847</td>\n",
       "      <td>-0.059629</td>\n",
       "      <td>0.031602</td>\n",
       "      <td>0.009578</td>\n",
       "      <td>0.361056</td>\n",
       "      <td>0.574908</td>\n",
       "      <td>1.000000</td>\n",
       "      <td>0.433550</td>\n",
       "      <td>0.592323</td>\n",
       "      <td>0.247623</td>\n",
       "      <td>0.348491</td>\n",
       "      <td>0.151357</td>\n",
       "      <td>0.604742</td>\n",
       "      <td>0.203847</td>\n",
       "      <td>0.534578</td>\n",
       "      <td>-0.007802</td>\n",
       "    </tr>\n",
       "    <tr>\n",
       "      <th>capx</th>\n",
       "      <td>-0.076715</td>\n",
       "      <td>-0.048796</td>\n",
       "      <td>0.028104</td>\n",
       "      <td>-0.000295</td>\n",
       "      <td>0.155549</td>\n",
       "      <td>0.685839</td>\n",
       "      <td>0.433550</td>\n",
       "      <td>1.000000</td>\n",
       "      <td>0.557142</td>\n",
       "      <td>0.128961</td>\n",
       "      <td>0.432310</td>\n",
       "      <td>0.125157</td>\n",
       "      <td>0.529393</td>\n",
       "      <td>0.094468</td>\n",
       "      <td>0.514502</td>\n",
       "      <td>-0.061823</td>\n",
       "    </tr>\n",
       "    <tr>\n",
       "      <th>ceq</th>\n",
       "      <td>-0.111489</td>\n",
       "      <td>-0.079737</td>\n",
       "      <td>0.048720</td>\n",
       "      <td>0.013463</td>\n",
       "      <td>0.611279</td>\n",
       "      <td>0.707128</td>\n",
       "      <td>0.592323</td>\n",
       "      <td>0.557142</td>\n",
       "      <td>1.000000</td>\n",
       "      <td>0.439403</td>\n",
       "      <td>0.467133</td>\n",
       "      <td>0.234837</td>\n",
       "      <td>0.823977</td>\n",
       "      <td>0.087902</td>\n",
       "      <td>0.463579</td>\n",
       "      <td>0.000085</td>\n",
       "    </tr>\n",
       "    <tr>\n",
       "      <th>che</th>\n",
       "      <td>-0.047532</td>\n",
       "      <td>-0.033973</td>\n",
       "      <td>0.021665</td>\n",
       "      <td>0.007151</td>\n",
       "      <td>0.606885</td>\n",
       "      <td>0.308636</td>\n",
       "      <td>0.247623</td>\n",
       "      <td>0.128961</td>\n",
       "      <td>0.439403</td>\n",
       "      <td>1.000000</td>\n",
       "      <td>0.187329</td>\n",
       "      <td>0.478348</td>\n",
       "      <td>0.332835</td>\n",
       "      <td>0.241643</td>\n",
       "      <td>0.276193</td>\n",
       "      <td>0.020470</td>\n",
       "    </tr>\n",
       "    <tr>\n",
       "      <th>emp</th>\n",
       "      <td>-0.122380</td>\n",
       "      <td>-0.090618</td>\n",
       "      <td>0.009652</td>\n",
       "      <td>0.004641</td>\n",
       "      <td>0.278413</td>\n",
       "      <td>0.668437</td>\n",
       "      <td>0.348491</td>\n",
       "      <td>0.432310</td>\n",
       "      <td>0.467133</td>\n",
       "      <td>0.187329</td>\n",
       "      <td>1.000000</td>\n",
       "      <td>0.158001</td>\n",
       "      <td>0.410306</td>\n",
       "      <td>0.113206</td>\n",
       "      <td>0.338371</td>\n",
       "      <td>-0.001246</td>\n",
       "    </tr>\n",
       "    <tr>\n",
       "      <th>invt</th>\n",
       "      <td>-0.038656</td>\n",
       "      <td>-0.031278</td>\n",
       "      <td>0.004314</td>\n",
       "      <td>0.002051</td>\n",
       "      <td>0.261155</td>\n",
       "      <td>0.230391</td>\n",
       "      <td>0.151357</td>\n",
       "      <td>0.125157</td>\n",
       "      <td>0.234837</td>\n",
       "      <td>0.478348</td>\n",
       "      <td>0.158001</td>\n",
       "      <td>1.000000</td>\n",
       "      <td>0.214674</td>\n",
       "      <td>0.111289</td>\n",
       "      <td>0.163072</td>\n",
       "      <td>0.004972</td>\n",
       "    </tr>\n",
       "    <tr>\n",
       "      <th>re</th>\n",
       "      <td>-0.100092</td>\n",
       "      <td>-0.071371</td>\n",
       "      <td>0.034446</td>\n",
       "      <td>0.010845</td>\n",
       "      <td>0.443250</td>\n",
       "      <td>0.664255</td>\n",
       "      <td>0.604742</td>\n",
       "      <td>0.529393</td>\n",
       "      <td>0.823977</td>\n",
       "      <td>0.332835</td>\n",
       "      <td>0.410306</td>\n",
       "      <td>0.214674</td>\n",
       "      <td>1.000000</td>\n",
       "      <td>0.004597</td>\n",
       "      <td>0.428920</td>\n",
       "      <td>-0.005840</td>\n",
       "    </tr>\n",
       "    <tr>\n",
       "      <th>dltt</th>\n",
       "      <td>-0.052703</td>\n",
       "      <td>-0.039388</td>\n",
       "      <td>0.018861</td>\n",
       "      <td>0.001124</td>\n",
       "      <td>0.588733</td>\n",
       "      <td>0.272088</td>\n",
       "      <td>0.203847</td>\n",
       "      <td>0.094468</td>\n",
       "      <td>0.087902</td>\n",
       "      <td>0.241643</td>\n",
       "      <td>0.113206</td>\n",
       "      <td>0.111289</td>\n",
       "      <td>0.004597</td>\n",
       "      <td>1.000000</td>\n",
       "      <td>0.306937</td>\n",
       "      <td>0.016958</td>\n",
       "    </tr>\n",
       "    <tr>\n",
       "      <th>dv</th>\n",
       "      <td>-0.080442</td>\n",
       "      <td>-0.054188</td>\n",
       "      <td>0.042587</td>\n",
       "      <td>0.001559</td>\n",
       "      <td>0.308805</td>\n",
       "      <td>0.557734</td>\n",
       "      <td>0.534578</td>\n",
       "      <td>0.514502</td>\n",
       "      <td>0.463579</td>\n",
       "      <td>0.276193</td>\n",
       "      <td>0.338371</td>\n",
       "      <td>0.163072</td>\n",
       "      <td>0.428920</td>\n",
       "      <td>0.306937</td>\n",
       "      <td>1.000000</td>\n",
       "      <td>-0.032400</td>\n",
       "    </tr>\n",
       "    <tr>\n",
       "      <th>sic</th>\n",
       "      <td>0.049279</td>\n",
       "      <td>0.025079</td>\n",
       "      <td>0.001752</td>\n",
       "      <td>0.018790</td>\n",
       "      <td>0.036945</td>\n",
       "      <td>-0.020152</td>\n",
       "      <td>-0.007802</td>\n",
       "      <td>-0.061823</td>\n",
       "      <td>0.000085</td>\n",
       "      <td>0.020470</td>\n",
       "      <td>-0.001246</td>\n",
       "      <td>0.004972</td>\n",
       "      <td>-0.005840</td>\n",
       "      <td>0.016958</td>\n",
       "      <td>-0.032400</td>\n",
       "      <td>1.000000</td>\n",
       "    </tr>\n",
       "  </tbody>\n",
       "</table>\n",
       "</div>"
      ],
      "text/plain": [
       "            Unnamed: 0     gvkey     fyear    target        at      revt  \\\n",
       "Unnamed: 0    1.000000  0.952367  0.155923  0.001362 -0.083680 -0.133506   \n",
       "gvkey         0.952367  1.000000  0.160542 -0.000995 -0.061759 -0.098166   \n",
       "fyear         0.155923  0.160542  1.000000 -0.022569  0.028465  0.031154   \n",
       "target        0.001362 -0.000995 -0.022569  1.000000  0.007956  0.012633   \n",
       "at           -0.083680 -0.061759  0.028465  0.007956  1.000000  0.475869   \n",
       "revt         -0.133506 -0.098166  0.031154  0.012633  0.475869  1.000000   \n",
       "ib           -0.084847 -0.059629  0.031602  0.009578  0.361056  0.574908   \n",
       "capx         -0.076715 -0.048796  0.028104 -0.000295  0.155549  0.685839   \n",
       "ceq          -0.111489 -0.079737  0.048720  0.013463  0.611279  0.707128   \n",
       "che          -0.047532 -0.033973  0.021665  0.007151  0.606885  0.308636   \n",
       "emp          -0.122380 -0.090618  0.009652  0.004641  0.278413  0.668437   \n",
       "invt         -0.038656 -0.031278  0.004314  0.002051  0.261155  0.230391   \n",
       "re           -0.100092 -0.071371  0.034446  0.010845  0.443250  0.664255   \n",
       "dltt         -0.052703 -0.039388  0.018861  0.001124  0.588733  0.272088   \n",
       "dv           -0.080442 -0.054188  0.042587  0.001559  0.308805  0.557734   \n",
       "sic           0.049279  0.025079  0.001752  0.018790  0.036945 -0.020152   \n",
       "\n",
       "                  ib      capx       ceq       che       emp      invt  \\\n",
       "Unnamed: 0 -0.084847 -0.076715 -0.111489 -0.047532 -0.122380 -0.038656   \n",
       "gvkey      -0.059629 -0.048796 -0.079737 -0.033973 -0.090618 -0.031278   \n",
       "fyear       0.031602  0.028104  0.048720  0.021665  0.009652  0.004314   \n",
       "target      0.009578 -0.000295  0.013463  0.007151  0.004641  0.002051   \n",
       "at          0.361056  0.155549  0.611279  0.606885  0.278413  0.261155   \n",
       "revt        0.574908  0.685839  0.707128  0.308636  0.668437  0.230391   \n",
       "ib          1.000000  0.433550  0.592323  0.247623  0.348491  0.151357   \n",
       "capx        0.433550  1.000000  0.557142  0.128961  0.432310  0.125157   \n",
       "ceq         0.592323  0.557142  1.000000  0.439403  0.467133  0.234837   \n",
       "che         0.247623  0.128961  0.439403  1.000000  0.187329  0.478348   \n",
       "emp         0.348491  0.432310  0.467133  0.187329  1.000000  0.158001   \n",
       "invt        0.151357  0.125157  0.234837  0.478348  0.158001  1.000000   \n",
       "re          0.604742  0.529393  0.823977  0.332835  0.410306  0.214674   \n",
       "dltt        0.203847  0.094468  0.087902  0.241643  0.113206  0.111289   \n",
       "dv          0.534578  0.514502  0.463579  0.276193  0.338371  0.163072   \n",
       "sic        -0.007802 -0.061823  0.000085  0.020470 -0.001246  0.004972   \n",
       "\n",
       "                  re      dltt        dv       sic  \n",
       "Unnamed: 0 -0.100092 -0.052703 -0.080442  0.049279  \n",
       "gvkey      -0.071371 -0.039388 -0.054188  0.025079  \n",
       "fyear       0.034446  0.018861  0.042587  0.001752  \n",
       "target      0.010845  0.001124  0.001559  0.018790  \n",
       "at          0.443250  0.588733  0.308805  0.036945  \n",
       "revt        0.664255  0.272088  0.557734 -0.020152  \n",
       "ib          0.604742  0.203847  0.534578 -0.007802  \n",
       "capx        0.529393  0.094468  0.514502 -0.061823  \n",
       "ceq         0.823977  0.087902  0.463579  0.000085  \n",
       "che         0.332835  0.241643  0.276193  0.020470  \n",
       "emp         0.410306  0.113206  0.338371 -0.001246  \n",
       "invt        0.214674  0.111289  0.163072  0.004972  \n",
       "re          1.000000  0.004597  0.428920 -0.005840  \n",
       "dltt        0.004597  1.000000  0.306937  0.016958  \n",
       "dv          0.428920  0.306937  1.000000 -0.032400  \n",
       "sic        -0.005840  0.016958 -0.032400  1.000000  "
      ]
     },
     "execution_count": 10,
     "metadata": {},
     "output_type": "execute_result"
    }
   ],
   "source": [
    "finance_dataframe.corr()"
   ]
  },
  {
   "cell_type": "code",
   "execution_count": 9,
   "id": "89346c9b",
   "metadata": {},
   "outputs": [
    {
     "data": {
      "text/plain": [
       "<AxesSubplot:>"
      ]
     },
     "execution_count": 9,
     "metadata": {},
     "output_type": "execute_result"
    },
    {
     "data": {
      "image/png": "[encoded data removed]",
      "text/plain": [
       "<Figure size 1440x720 with 2 Axes>"
      ]
     },
     "metadata": {
      "needs_background": "light"
     },
     "output_type": "display_data"
    }
   ],
   "source": [
    "fig, ax = plt.subplots(figsize=(20,10))  \n",
    "sns.heatmap(finance_dataframe.corr(), cmap=\"YlGnBu\", linewidths=0.1, annot=True, ax=ax)"
   ]
  },
  {
   "cell_type": "code",
   "execution_count": 10,
   "id": "83ffae77",
   "metadata": {},
   "outputs": [],
   "source": [
    "# sns.pairplot(finance_dataframe, hue='target', height=2.5)"
   ]
  },
  {
   "cell_type": "code",
   "execution_count": null,
   "id": "34e53d79",
   "metadata": {},
   "outputs": [],
   "source": []
  },
  {
   "cell_type": "markdown",
   "id": "9b5f5cf0",
   "metadata": {},
   "source": [
    "# Train Test Split of Data"
   ]
  },
  {
   "cell_type": "code",
   "execution_count": null,
   "id": "a79b1f3f",
   "metadata": {},
   "outputs": [],
   "source": [
    "X_train, X_test, y_train, y_test = train_test_split(finance_dataframe, finance_dataframe['target'], test_size=0.3,random_state=109)\n",
    "# 70% training and 30% test"
   ]
  },
  {
   "cell_type": "code",
   "execution_count": null,
   "id": "0d792ee7",
   "metadata": {},
   "outputs": [],
   "source": []
  },
  {
   "cell_type": "markdown",
   "id": "e4133673",
   "metadata": {},
   "source": [
    "## SVM"
   ]
  },
  {
   "cell_type": "markdown",
   "id": "d68ff980",
   "metadata": {},
   "source": [
    "#### Training SVM Model"
   ]
  },
  {
   "cell_type": "code",
   "execution_count": null,
   "id": "50407fbc",
   "metadata": {},
   "outputs": [],
   "source": [
    "from sklearn import svm"
   ]
  },
  {
   "cell_type": "code",
   "execution_count": 34,
   "id": "aa78de3c",
   "metadata": {},
   "outputs": [],
   "source": [
    "# SVM takes time to train, hence taking sample of the data for training\n",
    "sample_X = X_train.sample(700)\n",
    "sample_y = y_train.sample(700)"
   ]
  },
  {
   "cell_type": "code",
   "execution_count": 23,
   "id": "b17f14d6",
   "metadata": {},
   "outputs": [],
   "source": []
  },
  {
   "cell_type": "code",
   "execution_count": 24,
   "id": "110d13df",
   "metadata": {},
   "outputs": [],
   "source": [
    "clf = svm.SVC(kernel='linear')"
   ]
  },
  {
   "cell_type": "code",
   "execution_count": 25,
   "id": "2c9ad995",
   "metadata": {},
   "outputs": [
    {
     "data": {
      "text/plain": [
       "SVC(kernel='linear')"
      ]
     },
     "execution_count": 25,
     "metadata": {},
     "output_type": "execute_result"
    }
   ],
   "source": [
    "# clf.fit(X_train, y_train)\n",
    "clf.fit(sample_X,sample_y)"
   ]
  },
  {
   "cell_type": "code",
   "execution_count": null,
   "id": "0e7bf839",
   "metadata": {},
   "outputs": [],
   "source": []
  },
  {
   "cell_type": "markdown",
   "id": "1d08bd38",
   "metadata": {},
   "source": [
    "#### Predicting Target with SVM"
   ]
  },
  {
   "cell_type": "code",
   "execution_count": 17,
   "id": "01204ac1",
   "metadata": {},
   "outputs": [],
   "source": [
    "y_pred = clf.predict(X_test)"
   ]
  },
  {
   "cell_type": "code",
   "execution_count": 35,
   "id": "efecd299",
   "metadata": {},
   "outputs": [
    {
     "data": {
      "text/plain": [
       "Unnamed: 0    7\n",
       "gvkey         7\n",
       "fyear         7\n",
       "target        7\n",
       "at            7\n",
       "revt          7\n",
       "ib            7\n",
       "capx          7\n",
       "ceq           7\n",
       "che           7\n",
       "emp           7\n",
       "invt          7\n",
       "re            7\n",
       "dltt          7\n",
       "dv            7\n",
       "sic           7\n",
       "dtype: int64"
      ]
     },
     "execution_count": 35,
     "metadata": {},
     "output_type": "execute_result"
    }
   ],
   "source": [
    "sample_X[sample_X['target']==1].count()"
   ]
  },
  {
   "cell_type": "code",
   "execution_count": null,
   "id": "34a383a4",
   "metadata": {},
   "outputs": [],
   "source": []
  },
  {
   "cell_type": "markdown",
   "id": "e9e1e250",
   "metadata": {},
   "source": [
    "#### Metric Calculations"
   ]
  },
  {
   "cell_type": "code",
   "execution_count": 19,
   "id": "72074029",
   "metadata": {},
   "outputs": [
    {
     "name": "stdout",
     "output_type": "stream",
     "text": [
      "Accuracy: 0.9770232434114039\n"
     ]
    }
   ],
   "source": [
    "print(\"Accuracy:\",metrics.accuracy_score(y_test, y_pred))"
   ]
  },
  {
   "cell_type": "code",
   "execution_count": 20,
   "id": "42da978f",
   "metadata": {},
   "outputs": [
    {
     "name": "stdout",
     "output_type": "stream",
     "text": [
      "Precision: 0.013888888888888888\n"
     ]
    }
   ],
   "source": [
    "print(\"Precision:\",metrics.precision_score(y_test, y_pred))"
   ]
  },
  {
   "cell_type": "code",
   "execution_count": 21,
   "id": "49b92991",
   "metadata": {},
   "outputs": [
    {
     "name": "stdout",
     "output_type": "stream",
     "text": [
      "Recall: 0.024518388791593695\n"
     ]
    }
   ],
   "source": [
    "print(\"Recall:\",metrics.recall_score(y_test, y_pred))"
   ]
  },
  {
   "cell_type": "code",
   "execution_count": null,
   "id": "93b5e68f",
   "metadata": {},
   "outputs": [],
   "source": []
  },
  {
   "cell_type": "code",
   "execution_count": null,
   "id": "c37b74a1",
   "metadata": {},
   "outputs": [],
   "source": []
  },
  {
   "cell_type": "code",
   "execution_count": null,
   "id": "fba061bb",
   "metadata": {},
   "outputs": [],
   "source": []
  },
  {
   "cell_type": "markdown",
   "id": "b2983ca5",
   "metadata": {},
   "source": [
    "## Logistic Regression"
   ]
  },
  {
   "cell_type": "code",
   "execution_count": 26,
   "id": "924ffeea",
   "metadata": {},
   "outputs": [],
   "source": [
    "from sklearn.linear_model import LogisticRegression"
   ]
  },
  {
   "cell_type": "code",
   "execution_count": 27,
   "id": "deebc79b",
   "metadata": {},
   "outputs": [],
   "source": [
    "logisticRegr = LogisticRegression()"
   ]
  },
  {
   "cell_type": "code",
   "execution_count": 28,
   "id": "c08a7a3b",
   "metadata": {},
   "outputs": [
    {
     "name": "stderr",
     "output_type": "stream",
     "text": [
      "C:\\Users\\Sheetal\\anaconda3\\lib\\site-packages\\sklearn\\linear_model\\_logistic.py:763: ConvergenceWarning: lbfgs failed to converge (status=1):\n",
      "STOP: TOTAL NO. of ITERATIONS REACHED LIMIT.\n",
      "\n",
      "Increase the number of iterations (max_iter) or scale the data as shown in:\n",
      "    https://scikit-learn.org/stable/modules/preprocessing.html\n",
      "Please also refer to the documentation for alternative solver options:\n",
      "    https://scikit-learn.org/stable/modules/linear_model.html#logistic-regression\n",
      "  n_iter_i = _check_optimize_result(\n"
     ]
    },
    {
     "data": {
      "text/plain": [
       "LogisticRegression()"
      ]
     },
     "execution_count": 28,
     "metadata": {},
     "output_type": "execute_result"
    }
   ],
   "source": [
    "logisticRegr.fit(X_train, y_train)"
   ]
  },
  {
   "cell_type": "code",
   "execution_count": 29,
   "id": "312a2fc9",
   "metadata": {},
   "outputs": [],
   "source": [
    "predictions = logisticRegr.predict(X_test)"
   ]
  },
  {
   "cell_type": "code",
   "execution_count": 30,
   "id": "2cf897fd",
   "metadata": {},
   "outputs": [
    {
     "name": "stdout",
     "output_type": "stream",
     "text": [
      "0.99154111669111\n"
     ]
    }
   ],
   "source": [
    "score = logisticRegr.score(X_test, y_test)\n",
    "print(score)"
   ]
  },
  {
   "cell_type": "code",
   "execution_count": null,
   "id": "213bab0a",
   "metadata": {},
   "outputs": [],
   "source": [
    "import findspark\n",
    "findspark.init()\n",
    "\n",
    "import pyspark\n",
    "import random\n",
    "\n",
    "sc = pyspark.SparkContext(appName=\"svc\")\n",
    "\n",
    "sc.parallelize(clf.fit(X_train,y_train))\n",
    "\n",
    "sc.stop()"
   ]
  },
  {
   "cell_type": "code",
   "execution_count": null,
   "id": "db1d2555",
   "metadata": {},
   "outputs": [],
   "source": [
    "y_pred = clf.predict(X_test)"
   ]
  },
  {
   "cell_type": "code",
   "execution_count": null,
   "id": "7e4a310a",
   "metadata": {},
   "outputs": [],
   "source": [
    "print(\"Accuracy:\",metrics.accuracy_score(y_test, y_pred))"
   ]
  }
 ],
 "metadata": {
  "kernelspec": {
   "display_name": "Python 3",
   "language": "python",
   "name": "python3"
  },
  "language_info": {
   "codemirror_mode": {
    "name": "ipython",
    "version": 3
   },
   "file_extension": ".py",
   "mimetype": "text/x-python",
   "name": "python",
   "nbconvert_exporter": "python",
   "pygments_lexer": "ipython3",
   "version": "3.8.8"
  }
 },
 "nbformat": 4,
 "nbformat_minor": 5
}
